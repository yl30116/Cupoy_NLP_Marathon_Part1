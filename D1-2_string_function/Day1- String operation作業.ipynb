{
 "cells": [
  {
   "cell_type": "markdown",
   "metadata": {},
   "source": [
    "# 作業目標：運用課程所學，操作字串達到預期輸出"
   ]
  },
  {
   "cell_type": "markdown",
   "metadata": {},
   "source": [
    "---"
   ]
  },
  {
   "cell_type": "markdown",
   "metadata": {},
   "source": [
    "## 讀入所需文件"
   ]
  },
  {
   "cell_type": "code",
   "execution_count": 1,
   "metadata": {
    "ExecuteTime": {
     "end_time": "2020-11-18T13:24:35.235271Z",
     "start_time": "2020-11-18T13:24:34.938116Z"
    }
   },
   "outputs": [
    {
     "data": {
      "text/html": [
       "<div>\n",
       "<style scoped>\n",
       "    .dataframe tbody tr th:only-of-type {\n",
       "        vertical-align: middle;\n",
       "    }\n",
       "\n",
       "    .dataframe tbody tr th {\n",
       "        vertical-align: top;\n",
       "    }\n",
       "\n",
       "    .dataframe thead th {\n",
       "        text-align: right;\n",
       "    }\n",
       "</style>\n",
       "<table border=\"1\" class=\"dataframe\">\n",
       "  <thead>\n",
       "    <tr style=\"text-align: right;\">\n",
       "      <th></th>\n",
       "      <th>Review</th>\n",
       "      <th>Liked</th>\n",
       "    </tr>\n",
       "  </thead>\n",
       "  <tbody>\n",
       "    <tr>\n",
       "      <th>0</th>\n",
       "      <td>Wow... Loved this place.</td>\n",
       "      <td>1</td>\n",
       "    </tr>\n",
       "    <tr>\n",
       "      <th>1</th>\n",
       "      <td>Crust is not good.</td>\n",
       "      <td>0</td>\n",
       "    </tr>\n",
       "    <tr>\n",
       "      <th>2</th>\n",
       "      <td>Not tasty and the texture was just nasty.</td>\n",
       "      <td>0</td>\n",
       "    </tr>\n",
       "    <tr>\n",
       "      <th>3</th>\n",
       "      <td>Stopped by during the late May bank holiday of...</td>\n",
       "      <td>1</td>\n",
       "    </tr>\n",
       "    <tr>\n",
       "      <th>4</th>\n",
       "      <td>The selection on the menu was great and so wer...</td>\n",
       "      <td>1</td>\n",
       "    </tr>\n",
       "    <tr>\n",
       "      <th>...</th>\n",
       "      <td>...</td>\n",
       "      <td>...</td>\n",
       "    </tr>\n",
       "    <tr>\n",
       "      <th>995</th>\n",
       "      <td>I think food should have flavor and texture an...</td>\n",
       "      <td>0</td>\n",
       "    </tr>\n",
       "    <tr>\n",
       "      <th>996</th>\n",
       "      <td>Appetite instantly gone.</td>\n",
       "      <td>0</td>\n",
       "    </tr>\n",
       "    <tr>\n",
       "      <th>997</th>\n",
       "      <td>Overall I was not impressed and would not go b...</td>\n",
       "      <td>0</td>\n",
       "    </tr>\n",
       "    <tr>\n",
       "      <th>998</th>\n",
       "      <td>The whole experience was underwhelming, and I ...</td>\n",
       "      <td>0</td>\n",
       "    </tr>\n",
       "    <tr>\n",
       "      <th>999</th>\n",
       "      <td>Then, as if I hadn't wasted enough of my life ...</td>\n",
       "      <td>0</td>\n",
       "    </tr>\n",
       "  </tbody>\n",
       "</table>\n",
       "<p>1000 rows × 2 columns</p>\n",
       "</div>"
      ],
      "text/plain": [
       "                                                Review  Liked\n",
       "0                             Wow... Loved this place.      1\n",
       "1                                   Crust is not good.      0\n",
       "2            Not tasty and the texture was just nasty.      0\n",
       "3    Stopped by during the late May bank holiday of...      1\n",
       "4    The selection on the menu was great and so wer...      1\n",
       "..                                                 ...    ...\n",
       "995  I think food should have flavor and texture an...      0\n",
       "996                           Appetite instantly gone.      0\n",
       "997  Overall I was not impressed and would not go b...      0\n",
       "998  The whole experience was underwhelming, and I ...      0\n",
       "999  Then, as if I hadn't wasted enough of my life ...      0\n",
       "\n",
       "[1000 rows x 2 columns]"
      ]
     },
     "execution_count": 1,
     "metadata": {},
     "output_type": "execute_result"
    }
   ],
   "source": [
    "import pandas as pd\n",
    "#TSV文件有別於CSV的文件是使用\\t作为分隔符，CSV則是使用,作为分隔符。\n",
    "dataset = pd.read_csv(r'Restaurant_Reviews.tsv', sep='\\t')\n",
    "dataset"
   ]
  },
  {
   "cell_type": "code",
   "execution_count": 2,
   "metadata": {
    "ExecuteTime": {
     "end_time": "2020-11-18T13:24:35.247614Z",
     "start_time": "2020-11-18T13:24:35.237545Z"
    }
   },
   "outputs": [
    {
     "data": {
      "text/plain": [
       "array(['Wow... Loved this place.', 'Crust is not good.',\n",
       "       'Not tasty and the texture was just nasty.',\n",
       "       'Stopped by during the late May bank holiday off Rick Steve recommendation and loved it.',\n",
       "       'The selection on the menu was great and so were the prices.',\n",
       "       'Now I am getting angry and I want my damn pho.',\n",
       "       \"Honeslty it didn't taste THAT fresh.)\",\n",
       "       'The potatoes were like rubber and you could tell they had been made up ahead of time being kept under a warmer.',\n",
       "       'The fries were great too.', 'A great touch.',\n",
       "       'Service was very prompt.', 'Would not go back.',\n",
       "       'The cashier had no care what so ever on what I had to say it still ended up being wayyy overpriced.',\n",
       "       'I tried the Cape Cod ravoli, chicken, with cranberry...mmmm!',\n",
       "       'I was disgusted because I was pretty sure that was human hair.',\n",
       "       'I was shocked because no signs indicate cash only.',\n",
       "       'Highly recommended.', 'Waitress was a little slow in service.',\n",
       "       'This place is not worth your time, let alone Vegas.',\n",
       "       'did not like at all.', 'The Burrittos Blah!',\n",
       "       'The food, amazing.', 'Service is also cute.',\n",
       "       'I could care less... The interior is just beautiful.',\n",
       "       'So they performed.',\n",
       "       \"That's right....the red velvet cake.....ohhh this stuff is so good.\",\n",
       "       '- They never brought a salad we asked for.',\n",
       "       'This hole in the wall has great Mexican street tacos, and friendly staff.',\n",
       "       'Took an hour to get our food only 4 tables in restaurant my food was Luke warm, Our sever was running around like he was totally overwhelmed.',\n",
       "       'The worst was the salmon sashimi.',\n",
       "       'Also there are combos like a burger, fries, and beer for 23 which is a decent deal.',\n",
       "       'This was like the final blow!',\n",
       "       'I found this place by accident and I could not be happier.',\n",
       "       'seems like a good quick place to grab a bite of some familiar pub food, but do yourself a favor and look elsewhere.',\n",
       "       'Overall, I like this place a lot.',\n",
       "       'The only redeeming quality of the restaurant was that it was very inexpensive.',\n",
       "       'Ample portions and good prices.',\n",
       "       'Poor service, the waiter made me feel like I was stupid every time he came to the table.',\n",
       "       'My first visit to Hiro was a delight!', 'Service sucks.',\n",
       "       'The shrimp tender and moist.',\n",
       "       'There is not a deal good enough that would drag me into that establishment again.',\n",
       "       \"Hard to judge whether these sides were good because we were grossed out by the melted styrofoam and didn't want to eat it for fear of getting sick.\",\n",
       "       'On a positive note, our server was very attentive and provided great service.',\n",
       "       'Frozen pucks of disgust, with some of the worst people behind the register.',\n",
       "       'The only thing I did like was the prime rib and dessert section.',\n",
       "       \"It's too bad the food is so damn generic.\",\n",
       "       'The burger is good beef, cooked just right.',\n",
       "       'If you want a sandwich just go to any Firehouse!!!!!',\n",
       "       'My side Greek salad with the Greek dressing was so tasty, and the pita and hummus was very refreshing.',\n",
       "       'We ordered the duck rare and it was pink and tender on the inside with a nice char on the outside.',\n",
       "       'He came running after us when he realized my husband had left his sunglasses on the table.',\n",
       "       'Their chow mein is so good!',\n",
       "       \"They have horrible attitudes towards customers, and talk down to each one when customers don't enjoy their food.\",\n",
       "       'The portion was huge!',\n",
       "       'Loved it...friendly servers, great food, wonderful and imaginative menu.',\n",
       "       'The Heart Attack Grill in downtown Vegas is an absolutely flat-lined excuse for a restaurant.',\n",
       "       'Not much seafood and like 5 strings of pasta at the bottom.',\n",
       "       'The salad had just the right amount of sauce to not over power the scallop, which was perfectly cooked.',\n",
       "       'The ripped banana was not only ripped, but petrified and tasteless.',\n",
       "       'At least think to refill my water before I struggle to wave you over for 10 minutes.',\n",
       "       'This place receives stars for their APPETIZERS!!!',\n",
       "       'The cocktails are all handmade and delicious.',\n",
       "       \"We'd definitely go back here again.\",\n",
       "       'We are so glad we found this place.',\n",
       "       'Great food and service, huge portions and they give a military discount.',\n",
       "       'Always a great time at Dos Gringos!',\n",
       "       'Update.....went back for a second time and it was still just as amazing',\n",
       "       'We got the food and apparently they have never heard of salt and the batter on the fish was chewy.',\n",
       "       'A great way to finish a great.',\n",
       "       'The deal included 5 tastings and 2 drinks, and Jeff went above and beyond what we expected.',\n",
       "       '- Really, really good rice, all the time.',\n",
       "       'The service was meh.',\n",
       "       'It took over 30 min to get their milkshake, which was nothing more than chocolate milk.',\n",
       "       \"I guess I should have known that this place would suck, because it is inside of the Excalibur, but I didn't use my common sense.\",\n",
       "       'The scallop dish is quite appalling for value as well.',\n",
       "       '2 times - Very Bad Customer Service !',\n",
       "       'The sweet potato fries were very good and seasoned well.',\n",
       "       \"Today is the second time I've been to their lunch buffet and it was pretty good.\",\n",
       "       'There is so much good food in Vegas that I feel cheated for wasting an eating opportunity by going to Rice and Company.',\n",
       "       \"Coming here is like experiencing an underwhelming relationship where both parties can't wait for the other person to ask to break up.\",\n",
       "       'walked in and the place smelled like an old grease trap and only 2 others there eating.',\n",
       "       'The turkey and roast beef were bland.', 'This place has it!',\n",
       "       'The pan cakes everyone are raving about taste like a sugary disaster tailored to the palate of a six year old.',\n",
       "       'I love the Pho and the spring rolls oh so yummy you have to try.',\n",
       "       'The poor batter to meat ratio made the chicken tenders very unsatisfying.',\n",
       "       'All I have to say is the food was amazing!!!',\n",
       "       'Omelets are to die for!', 'Everything was fresh and delicious!',\n",
       "       'In summary, this was a largely disappointing dining experience.',\n",
       "       \"It's like a really sexy party in your mouth, where you're outrageously flirting with the hottest person at the party.\",\n",
       "       'Never been to Hard Rock Casino before, WILL NEVER EVER STEP FORWARD IN IT AGAIN!',\n",
       "       'Best breakfast buffet!!!', 'say bye bye to your tip lady!',\n",
       "       \"We'll never go again.\", 'Will be back again!',\n",
       "       'Food arrived quickly!', 'It was not good.',\n",
       "       'On the up side, their cafe serves really good food.',\n",
       "       'Our server was fantastic and when he found out the wife loves roasted garlic and bone marrow, he added extra to our meal and another marrow to go!',\n",
       "       \"The only good thing was our waiter, he was very helpful and kept the bloddy mary's coming.\",\n",
       "       'Best Buffet in town, for the price you cannot beat it.',\n",
       "       'I LOVED their mussels cooked in this wine reduction, the duck was tender, and their potato dishes were delicious.',\n",
       "       'This is one of the better buffets that I have been to.',\n",
       "       'So we went to Tigerlilly and had a fantastic afternoon!',\n",
       "       'The food was delicious, our bartender was attentive and personable AND we got a great deal!',\n",
       "       'The ambience is wonderful and there is music playing.',\n",
       "       'Will go back next trip out.', 'Sooooo good!!',\n",
       "       \"REAL sushi lovers, let's be honest - Yama is not that good.\",\n",
       "       \"At least 40min passed in between us ordering and the food arriving, and it wasn't that busy.\",\n",
       "       'This is a really fantastic Thai restaurant which is definitely worth a visit.',\n",
       "       'Nice, spicy and tender.', 'Good prices.', 'Check it out.',\n",
       "       'It was pretty gross!', \"I've had better atmosphere.\",\n",
       "       'Kind of hard to mess up a steak but they did.',\n",
       "       'Although I very much liked the look and sound of this place, the actual experience was a bit disappointing.',\n",
       "       \"I just don't know how this place managed to served the blandest food I have ever eaten when they are preparing Indian cuisine.\",\n",
       "       'Worst service to boot, but that is the least of their worries.',\n",
       "       'Service was fine and the waitress was friendly.',\n",
       "       \"The guys all had steaks, and our steak loving son who has had steak at the best and worst places said it was the best steak he's ever eaten.\",\n",
       "       \"We thought you'd have to venture further away to get good sushi, but this place really hit the spot that night.\",\n",
       "       'Host staff were, for lack of a better word, BITCHES!',\n",
       "       \"Bland... Not a liking this place for a number of reasons and I don't want to waste time on bad reviewing.. I'll leave it at that...\",\n",
       "       'Phenomenal food, service and ambiance.', \"I wouldn't return.\",\n",
       "       \"Definitely worth venturing off the strip for the pork belly, will return next time I'm in Vegas.\",\n",
       "       'This place is way too overpriced for mediocre food.',\n",
       "       'Penne vodka excellent!',\n",
       "       'They have a good selection of food including a massive meatloaf sandwich, a crispy chicken wrap, a delish tuna melt and some tasty burgers.',\n",
       "       'The management is rude.',\n",
       "       'Delicious NYC bagels, good selections of cream cheese, real Lox with capers even.',\n",
       "       \"Great Subway, in fact it's so good when you come here every other Subway will not meet your expectations.\",\n",
       "       'I had a seriously solid breakfast here.',\n",
       "       'This is one of the best bars with food in Vegas.',\n",
       "       'He was extremely rude and really, there are so many other restaurants I would love to dine at during a weekend in Vegas.',\n",
       "       'My drink was never empty and he made some really great menu suggestions.',\n",
       "       \"Don't do it!!!!\",\n",
       "       \"The waiter wasn't helpful or friendly and rarely checked on us.\",\n",
       "       'My husband and I ate lunch here and were v"
      ]
     },
     "execution_count": 2,
     "metadata": {},
     "output_type": "execute_result"
    },
    {
     "data": {
      "text/html": [
       "<b>limit_output extension: Maximum message size of 10000 exceeded with 68788 characters</b>"
      ]
     },
     "metadata": {},
     "output_type": "display_data"
    }
   ],
   "source": [
    "all_review = dataset['Review'].values\n",
    "all_review"
   ]
  },
  {
   "cell_type": "markdown",
   "metadata": {},
   "source": [
    "---"
   ]
  },
  {
   "cell_type": "markdown",
   "metadata": {},
   "source": [
    "### 計算有多少個句子是以 . 結尾"
   ]
  },
  {
   "cell_type": "code",
   "execution_count": 3,
   "metadata": {
    "ExecuteTime": {
     "end_time": "2020-11-18T13:24:35.252805Z",
     "start_time": "2020-11-18T13:24:35.249375Z"
    }
   },
   "outputs": [
    {
     "name": "stdout",
     "output_type": "stream",
     "text": [
      "There are 819 sentences end with .\n"
     ]
    }
   ],
   "source": [
    "n=0\n",
    "for c in range(len(all_review)):\n",
    "    if all_review[c].endswith('.'):\n",
    "        n += 1\n",
    "\n",
    "print('There are {} sentences end with .'.format(n))"
   ]
  },
  {
   "cell_type": "markdown",
   "metadata": {},
   "source": [
    "### 將所有. 換成 ,"
   ]
  },
  {
   "cell_type": "code",
   "execution_count": 4,
   "metadata": {
    "ExecuteTime": {
     "end_time": "2020-11-18T13:24:35.257055Z",
     "start_time": "2020-11-18T13:24:35.254362Z"
    }
   },
   "outputs": [],
   "source": [
    "for c in range(len(all_review)):\n",
    "    all_review[c] = all_review[c].replace('.', ',')"
   ]
  },
  {
   "cell_type": "code",
   "execution_count": 5,
   "metadata": {
    "ExecuteTime": {
     "end_time": "2020-11-18T13:24:35.267923Z",
     "start_time": "2020-11-18T13:24:35.258498Z"
    }
   },
   "outputs": [
    {
     "data": {
      "text/plain": [
       "array(['Wow,,, Loved this place,', 'Crust is not good,',\n",
       "       'Not tasty and the texture was just nasty,',\n",
       "       'Stopped by during the late May bank holiday off Rick Steve recommendation and loved it,',\n",
       "       'The selection on the menu was great and so were the prices,',\n",
       "       'Now I am getting angry and I want my damn pho,',\n",
       "       \"Honeslty it didn't taste THAT fresh,)\",\n",
       "       'The potatoes were like rubber and you could tell they had been made up ahead of time being kept under a warmer,',\n",
       "       'The fries were great too,', 'A great touch,',\n",
       "       'Service was very prompt,', 'Would not go back,',\n",
       "       'The cashier had no care what so ever on what I had to say it still ended up being wayyy overpriced,',\n",
       "       'I tried the Cape Cod ravoli, chicken, with cranberry,,,mmmm!',\n",
       "       'I was disgusted because I was pretty sure that was human hair,',\n",
       "       'I was shocked because no signs indicate cash only,',\n",
       "       'Highly recommended,', 'Waitress was a little slow in service,',\n",
       "       'This place is not worth your time, let alone Vegas,',\n",
       "       'did not like at all,', 'The Burrittos Blah!',\n",
       "       'The food, amazing,', 'Service is also cute,',\n",
       "       'I could care less,,, The interior is just beautiful,',\n",
       "       'So they performed,',\n",
       "       \"That's right,,,,the red velvet cake,,,,,ohhh this stuff is so good,\",\n",
       "       '- They never brought a salad we asked for,',\n",
       "       'This hole in the wall has great Mexican street tacos, and friendly staff,',\n",
       "       'Took an hour to get our food only 4 tables in restaurant my food was Luke warm, Our sever was running around like he was totally overwhelmed,',\n",
       "       'The worst was the salmon sashimi,',\n",
       "       'Also there are combos like a burger, fries, and beer for 23 which is a decent deal,',\n",
       "       'This was like the final blow!',\n",
       "       'I found this place by accident and I could not be happier,',\n",
       "       'seems like a good quick place to grab a bite of some familiar pub food, but do yourself a favor and look elsewhere,',\n",
       "       'Overall, I like this place a lot,',\n",
       "       'The only redeeming quality of the restaurant was that it was very inexpensive,',\n",
       "       'Ample portions and good prices,',\n",
       "       'Poor service, the waiter made me feel like I was stupid every time he came to the table,',\n",
       "       'My first visit to Hiro was a delight!', 'Service sucks,',\n",
       "       'The shrimp tender and moist,',\n",
       "       'There is not a deal good enough that would drag me into that establishment again,',\n",
       "       \"Hard to judge whether these sides were good because we were grossed out by the melted styrofoam and didn't want to eat it for fear of getting sick,\",\n",
       "       'On a positive note, our server was very attentive and provided great service,',\n",
       "       'Frozen pucks of disgust, with some of the worst people behind the register,',\n",
       "       'The only thing I did like was the prime rib and dessert section,',\n",
       "       \"It's too bad the food is so damn generic,\",\n",
       "       'The burger is good beef, cooked just right,',\n",
       "       'If you want a sandwich just go to any Firehouse!!!!!',\n",
       "       'My side Greek salad with the Greek dressing was so tasty, and the pita and hummus was very refreshing,',\n",
       "       'We ordered the duck rare and it was pink and tender on the inside with a nice char on the outside,',\n",
       "       'He came running after us when he realized my husband had left his sunglasses on the table,',\n",
       "       'Their chow mein is so good!',\n",
       "       \"They have horrible attitudes towards customers, and talk down to each one when customers don't enjoy their food,\",\n",
       "       'The portion was huge!',\n",
       "       'Loved it,,,friendly servers, great food, wonderful and imaginative menu,',\n",
       "       'The Heart Attack Grill in downtown Vegas is an absolutely flat-lined excuse for a restaurant,',\n",
       "       'Not much seafood and like 5 strings of pasta at the bottom,',\n",
       "       'The salad had just the right amount of sauce to not over power the scallop, which was perfectly cooked,',\n",
       "       'The ripped banana was not only ripped, but petrified and tasteless,',\n",
       "       'At least think to refill my water before I struggle to wave you over for 10 minutes,',\n",
       "       'This place receives stars for their APPETIZERS!!!',\n",
       "       'The cocktails are all handmade and delicious,',\n",
       "       \"We'd definitely go back here again,\",\n",
       "       'We are so glad we found this place,',\n",
       "       'Great food and service, huge portions and they give a military discount,',\n",
       "       'Always a great time at Dos Gringos!',\n",
       "       'Update,,,,,went back for a second time and it was still just as amazing',\n",
       "       'We got the food and apparently they have never heard of salt and the batter on the fish was chewy,',\n",
       "       'A great way to finish a great,',\n",
       "       'The deal included 5 tastings and 2 drinks, and Jeff went above and beyond what we expected,',\n",
       "       '- Really, really good rice, all the time,',\n",
       "       'The service was meh,',\n",
       "       'It took over 30 min to get their milkshake, which was nothing more than chocolate milk,',\n",
       "       \"I guess I should have known that this place would suck, because it is inside of the Excalibur, but I didn't use my common sense,\",\n",
       "       'The scallop dish is quite appalling for value as well,',\n",
       "       '2 times - Very Bad Customer Service !',\n",
       "       'The sweet potato fries were very good and seasoned well,',\n",
       "       \"Today is the second time I've been to their lunch buffet and it was pretty good,\",\n",
       "       'There is so much good food in Vegas that I feel cheated for wasting an eating opportunity by going to Rice and Company,',\n",
       "       \"Coming here is like experiencing an underwhelming relationship where both parties can't wait for the other person to ask to break up,\",\n",
       "       'walked in and the place smelled like an old grease trap and only 2 others there eating,',\n",
       "       'The turkey and roast beef were bland,', 'This place has it!',\n",
       "       'The pan cakes everyone are raving about taste like a sugary disaster tailored to the palate of a six year old,',\n",
       "       'I love the Pho and the spring rolls oh so yummy you have to try,',\n",
       "       'The poor batter to meat ratio made the chicken tenders very unsatisfying,',\n",
       "       'All I have to say is the food was amazing!!!',\n",
       "       'Omelets are to die for!', 'Everything was fresh and delicious!',\n",
       "       'In summary, this was a largely disappointing dining experience,',\n",
       "       \"It's like a really sexy party in your mouth, where you're outrageously flirting with the hottest person at the party,\",\n",
       "       'Never been to Hard Rock Casino before, WILL NEVER EVER STEP FORWARD IN IT AGAIN!',\n",
       "       'Best breakfast buffet!!!', 'say bye bye to your tip lady!',\n",
       "       \"We'll never go again,\", 'Will be back again!',\n",
       "       'Food arrived quickly!', 'It was not good,',\n",
       "       'On the up side, their cafe serves really good food,',\n",
       "       'Our server was fantastic and when he found out the wife loves roasted garlic and bone marrow, he added extra to our meal and another marrow to go!',\n",
       "       \"The only good thing was our waiter, he was very helpful and kept the bloddy mary's coming,\",\n",
       "       'Best Buffet in town, for the price you cannot beat it,',\n",
       "       'I LOVED their mussels cooked in this wine reduction, the duck was tender, and their potato dishes were delicious,',\n",
       "       'This is one of the better buffets that I have been to,',\n",
       "       'So we went to Tigerlilly and had a fantastic afternoon!',\n",
       "       'The food was delicious, our bartender was attentive and personable AND we got a great deal!',\n",
       "       'The ambience is wonderful and there is music playing,',\n",
       "       'Will go back next trip out,', 'Sooooo good!!',\n",
       "       \"REAL sushi lovers, let's be honest - Yama is not that good,\",\n",
       "       \"At least 40min passed in between us ordering and the food arriving, and it wasn't that busy,\",\n",
       "       'This is a really fantastic Thai restaurant which is definitely worth a visit,',\n",
       "       'Nice, spicy and tender,', 'Good prices,', 'Check it out,',\n",
       "       'It was pretty gross!', \"I've had better atmosphere,\",\n",
       "       'Kind of hard to mess up a steak but they did,',\n",
       "       'Although I very much liked the look and sound of this place, the actual experience was a bit disappointing,',\n",
       "       \"I just don't know how this place managed to served the blandest food I have ever eaten when they are preparing Indian cuisine,\",\n",
       "       'Worst service to boot, but that is the least of their worries,',\n",
       "       'Service was fine and the waitress was friendly,',\n",
       "       \"The guys all had steaks, and our steak loving son who has had steak at the best and worst places said it was the best steak he's ever eaten,\",\n",
       "       \"We thought you'd have to venture further away to get good sushi, but this place really hit the spot that night,\",\n",
       "       'Host staff were, for lack of a better word, BITCHES!',\n",
       "       \"Bland,,, Not a liking this place for a number of reasons and I don't want to waste time on bad reviewing,, I'll leave it at that,,,\",\n",
       "       'Phenomenal food, service and ambiance,', \"I wouldn't return,\",\n",
       "       \"Definitely worth venturing off the strip for the pork belly, will return next time I'm in Vegas,\",\n",
       "       'This place is way too overpriced for mediocre food,',\n",
       "       'Penne vodka excellent!',\n",
       "       'They have a good selection of food including a massive meatloaf sandwich, a crispy chicken wrap, a delish tuna melt and some tasty burgers,',\n",
       "       'The management is rude,',\n",
       "       'Delicious NYC bagels, good selections of cream cheese, real Lox with capers even,',\n",
       "       \"Great Subway, in fact it's so good when you come here every other Subway will not meet your expectations,\",\n",
       "       'I had a seriously solid breakfast here,',\n",
       "       'This is one of the best bars with food in Vegas,',\n",
       "       'He was extremely rude and really, there are so many other restaurants I would love to dine at during a weekend in Vegas,',\n",
       "       'My drink was never empty and he made some really great menu suggestions,',\n",
       "       \"Don't do it!!!!\",\n",
       "       \"The waiter wasn't helpful or friendly and rarely checked on us,\",\n",
       "       'My husband and I ate lunch here and were v"
      ]
     },
     "execution_count": 5,
     "metadata": {},
     "output_type": "execute_result"
    },
    {
     "data": {
      "text/html": [
       "<b>limit_output extension: Maximum message size of 10000 exceeded with 68788 characters</b>"
      ]
     },
     "metadata": {},
     "output_type": "display_data"
    }
   ],
   "source": [
    "all_review"
   ]
  },
  {
   "cell_type": "markdown",
   "metadata": {},
   "source": [
    "### 將所有sentence 中的 the 置換成 The"
   ]
  },
  {
   "cell_type": "code",
   "execution_count": 6,
   "metadata": {
    "ExecuteTime": {
     "end_time": "2020-11-18T13:24:35.275079Z",
     "start_time": "2020-11-18T13:24:35.271805Z"
    }
   },
   "outputs": [],
   "source": [
    "for c in range(len(all_review)):\n",
    "    all_review[c] = all_review[c].replace('the', 'The')"
   ]
  },
  {
   "cell_type": "code",
   "execution_count": 7,
   "metadata": {
    "ExecuteTime": {
     "end_time": "2020-11-18T13:24:35.289437Z",
     "start_time": "2020-11-18T13:24:35.277992Z"
    }
   },
   "outputs": [
    {
     "data": {
      "text/plain": [
       "array(['Wow,,, Loved this place,', 'Crust is not good,',\n",
       "       'Not tasty and The texture was just nasty,',\n",
       "       'Stopped by during The late May bank holiday off Rick Steve recommendation and loved it,',\n",
       "       'The selection on The menu was great and so were The prices,',\n",
       "       'Now I am getting angry and I want my damn pho,',\n",
       "       \"Honeslty it didn't taste THAT fresh,)\",\n",
       "       'The potatoes were like rubber and you could tell They had been made up ahead of time being kept under a warmer,',\n",
       "       'The fries were great too,', 'A great touch,',\n",
       "       'Service was very prompt,', 'Would not go back,',\n",
       "       'The cashier had no care what so ever on what I had to say it still ended up being wayyy overpriced,',\n",
       "       'I tried The Cape Cod ravoli, chicken, with cranberry,,,mmmm!',\n",
       "       'I was disgusted because I was pretty sure that was human hair,',\n",
       "       'I was shocked because no signs indicate cash only,',\n",
       "       'Highly recommended,', 'Waitress was a little slow in service,',\n",
       "       'This place is not worth your time, let alone Vegas,',\n",
       "       'did not like at all,', 'The Burrittos Blah!',\n",
       "       'The food, amazing,', 'Service is also cute,',\n",
       "       'I could care less,,, The interior is just beautiful,',\n",
       "       'So They performed,',\n",
       "       \"That's right,,,,The red velvet cake,,,,,ohhh this stuff is so good,\",\n",
       "       '- They never brought a salad we asked for,',\n",
       "       'This hole in The wall has great Mexican street tacos, and friendly staff,',\n",
       "       'Took an hour to get our food only 4 tables in restaurant my food was Luke warm, Our sever was running around like he was totally overwhelmed,',\n",
       "       'The worst was The salmon sashimi,',\n",
       "       'Also There are combos like a burger, fries, and beer for 23 which is a decent deal,',\n",
       "       'This was like The final blow!',\n",
       "       'I found this place by accident and I could not be happier,',\n",
       "       'seems like a good quick place to grab a bite of some familiar pub food, but do yourself a favor and look elsewhere,',\n",
       "       'Overall, I like this place a lot,',\n",
       "       'The only redeeming quality of The restaurant was that it was very inexpensive,',\n",
       "       'Ample portions and good prices,',\n",
       "       'Poor service, The waiter made me feel like I was stupid every time he came to The table,',\n",
       "       'My first visit to Hiro was a delight!', 'Service sucks,',\n",
       "       'The shrimp tender and moist,',\n",
       "       'There is not a deal good enough that would drag me into that establishment again,',\n",
       "       \"Hard to judge wheTher These sides were good because we were grossed out by The melted styrofoam and didn't want to eat it for fear of getting sick,\",\n",
       "       'On a positive note, our server was very attentive and provided great service,',\n",
       "       'Frozen pucks of disgust, with some of The worst people behind The register,',\n",
       "       'The only thing I did like was The prime rib and dessert section,',\n",
       "       \"It's too bad The food is so damn generic,\",\n",
       "       'The burger is good beef, cooked just right,',\n",
       "       'If you want a sandwich just go to any Firehouse!!!!!',\n",
       "       'My side Greek salad with The Greek dressing was so tasty, and The pita and hummus was very refreshing,',\n",
       "       'We ordered The duck rare and it was pink and tender on The inside with a nice char on The outside,',\n",
       "       'He came running after us when he realized my husband had left his sunglasses on The table,',\n",
       "       'Their chow mein is so good!',\n",
       "       \"They have horrible attitudes towards customers, and talk down to each one when customers don't enjoy Their food,\",\n",
       "       'The portion was huge!',\n",
       "       'Loved it,,,friendly servers, great food, wonderful and imaginative menu,',\n",
       "       'The Heart Attack Grill in downtown Vegas is an absolutely flat-lined excuse for a restaurant,',\n",
       "       'Not much seafood and like 5 strings of pasta at The bottom,',\n",
       "       'The salad had just The right amount of sauce to not over power The scallop, which was perfectly cooked,',\n",
       "       'The ripped banana was not only ripped, but petrified and tasteless,',\n",
       "       'At least think to refill my water before I struggle to wave you over for 10 minutes,',\n",
       "       'This place receives stars for Their APPETIZERS!!!',\n",
       "       'The cocktails are all handmade and delicious,',\n",
       "       \"We'd definitely go back here again,\",\n",
       "       'We are so glad we found this place,',\n",
       "       'Great food and service, huge portions and They give a military discount,',\n",
       "       'Always a great time at Dos Gringos!',\n",
       "       'Update,,,,,went back for a second time and it was still just as amazing',\n",
       "       'We got The food and apparently They have never heard of salt and The batter on The fish was chewy,',\n",
       "       'A great way to finish a great,',\n",
       "       'The deal included 5 tastings and 2 drinks, and Jeff went above and beyond what we expected,',\n",
       "       '- Really, really good rice, all The time,',\n",
       "       'The service was meh,',\n",
       "       'It took over 30 min to get Their milkshake, which was nothing more than chocolate milk,',\n",
       "       \"I guess I should have known that this place would suck, because it is inside of The Excalibur, but I didn't use my common sense,\",\n",
       "       'The scallop dish is quite appalling for value as well,',\n",
       "       '2 times - Very Bad Customer Service !',\n",
       "       'The sweet potato fries were very good and seasoned well,',\n",
       "       \"Today is The second time I've been to Their lunch buffet and it was pretty good,\",\n",
       "       'There is so much good food in Vegas that I feel cheated for wasting an eating opportunity by going to Rice and Company,',\n",
       "       \"Coming here is like experiencing an underwhelming relationship where both parties can't wait for The oTher person to ask to break up,\",\n",
       "       'walked in and The place smelled like an old grease trap and only 2 oThers There eating,',\n",
       "       'The turkey and roast beef were bland,', 'This place has it!',\n",
       "       'The pan cakes everyone are raving about taste like a sugary disaster tailored to The palate of a six year old,',\n",
       "       'I love The Pho and The spring rolls oh so yummy you have to try,',\n",
       "       'The poor batter to meat ratio made The chicken tenders very unsatisfying,',\n",
       "       'All I have to say is The food was amazing!!!',\n",
       "       'Omelets are to die for!', 'Everything was fresh and delicious!',\n",
       "       'In summary, this was a largely disappointing dining experience,',\n",
       "       \"It's like a really sexy party in your mouth, where you're outrageously flirting with The hottest person at The party,\",\n",
       "       'Never been to Hard Rock Casino before, WILL NEVER EVER STEP FORWARD IN IT AGAIN!',\n",
       "       'Best breakfast buffet!!!', 'say bye bye to your tip lady!',\n",
       "       \"We'll never go again,\", 'Will be back again!',\n",
       "       'Food arrived quickly!', 'It was not good,',\n",
       "       'On The up side, Their cafe serves really good food,',\n",
       "       'Our server was fantastic and when he found out The wife loves roasted garlic and bone marrow, he added extra to our meal and anoTher marrow to go!',\n",
       "       \"The only good thing was our waiter, he was very helpful and kept The bloddy mary's coming,\",\n",
       "       'Best Buffet in town, for The price you cannot beat it,',\n",
       "       'I LOVED Their mussels cooked in this wine reduction, The duck was tender, and Their potato dishes were delicious,',\n",
       "       'This is one of The better buffets that I have been to,',\n",
       "       'So we went to Tigerlilly and had a fantastic afternoon!',\n",
       "       'The food was delicious, our bartender was attentive and personable AND we got a great deal!',\n",
       "       'The ambience is wonderful and There is music playing,',\n",
       "       'Will go back next trip out,', 'Sooooo good!!',\n",
       "       \"REAL sushi lovers, let's be honest - Yama is not that good,\",\n",
       "       \"At least 40min passed in between us ordering and The food arriving, and it wasn't that busy,\",\n",
       "       'This is a really fantastic Thai restaurant which is definitely worth a visit,',\n",
       "       'Nice, spicy and tender,', 'Good prices,', 'Check it out,',\n",
       "       'It was pretty gross!', \"I've had better atmosphere,\",\n",
       "       'Kind of hard to mess up a steak but They did,',\n",
       "       'Although I very much liked The look and sound of this place, The actual experience was a bit disappointing,',\n",
       "       \"I just don't know how this place managed to served The blandest food I have ever eaten when They are preparing Indian cuisine,\",\n",
       "       'Worst service to boot, but that is The least of Their worries,',\n",
       "       'Service was fine and The waitress was friendly,',\n",
       "       \"The guys all had steaks, and our steak loving son who has had steak at The best and worst places said it was The best steak he's ever eaten,\",\n",
       "       \"We thought you'd have to venture furTher away to get good sushi, but this place really hit The spot that night,\",\n",
       "       'Host staff were, for lack of a better word, BITCHES!',\n",
       "       \"Bland,,, Not a liking this place for a number of reasons and I don't want to waste time on bad reviewing,, I'll leave it at that,,,\",\n",
       "       'Phenomenal food, service and ambiance,', \"I wouldn't return,\",\n",
       "       \"Definitely worth venturing off The strip for The pork belly, will return next time I'm in Vegas,\",\n",
       "       'This place is way too overpriced for mediocre food,',\n",
       "       'Penne vodka excellent!',\n",
       "       'They have a good selection of food including a massive meatloaf sandwich, a crispy chicken wrap, a delish tuna melt and some tasty burgers,',\n",
       "       'The management is rude,',\n",
       "       'Delicious NYC bagels, good selections of cream cheese, real Lox with capers even,',\n",
       "       \"Great Subway, in fact it's so good when you come here every oTher Subway will not meet your expectations,\",\n",
       "       'I had a seriously solid breakfast here,',\n",
       "       'This is one of The best bars with food in Vegas,',\n",
       "       'He was extremely rude and really, There are so many oTher restaurants I would love to dine at during a weekend in Vegas,',\n",
       "       'My drink was never empty and he made some really great menu suggestions,',\n",
       "       \"Don't do it!!!!\",\n",
       "       \"The waiter wasn't helpful or friendly and rarely checked on us,\",\n",
       "       'My husband and I ate lunch here and were v"
      ]
     },
     "execution_count": 7,
     "metadata": {},
     "output_type": "execute_result"
    },
    {
     "data": {
      "text/html": [
       "<b>limit_output extension: Maximum message size of 10000 exceeded with 68788 characters</b>"
      ]
     },
     "metadata": {},
     "output_type": "display_data"
    }
   ],
   "source": [
    "all_review"
   ]
  },
  {
   "cell_type": "markdown",
   "metadata": {},
   "source": [
    "### 將偶數句子全部轉換為大寫，基數句子全部轉換為小寫"
   ]
  },
  {
   "cell_type": "code",
   "execution_count": 8,
   "metadata": {
    "ExecuteTime": {
     "end_time": "2020-11-18T13:24:35.294751Z",
     "start_time": "2020-11-18T13:24:35.291452Z"
    }
   },
   "outputs": [],
   "source": [
    "for c in range(len(all_review)):\n",
    "    if c%2 == 0:\n",
    "        all_review[c] = all_review[c].upper()\n",
    "    else:\n",
    "        all_review[c] = all_review[c].lower()"
   ]
  },
  {
   "cell_type": "code",
   "execution_count": 9,
   "metadata": {
    "ExecuteTime": {
     "end_time": "2020-11-18T13:24:35.305822Z",
     "start_time": "2020-11-18T13:24:35.296229Z"
    }
   },
   "outputs": [
    {
     "data": {
      "text/plain": [
       "array(['WOW,,, LOVED THIS PLACE,', 'crust is not good,',\n",
       "       'NOT TASTY AND THE TEXTURE WAS JUST NASTY,',\n",
       "       'stopped by during the late may bank holiday off rick steve recommendation and loved it,',\n",
       "       'THE SELECTION ON THE MENU WAS GREAT AND SO WERE THE PRICES,',\n",
       "       'now i am getting angry and i want my damn pho,',\n",
       "       \"HONESLTY IT DIDN'T TASTE THAT FRESH,)\",\n",
       "       'the potatoes were like rubber and you could tell they had been made up ahead of time being kept under a warmer,',\n",
       "       'THE FRIES WERE GREAT TOO,', 'a great touch,',\n",
       "       'SERVICE WAS VERY PROMPT,', 'would not go back,',\n",
       "       'THE CASHIER HAD NO CARE WHAT SO EVER ON WHAT I HAD TO SAY IT STILL ENDED UP BEING WAYYY OVERPRICED,',\n",
       "       'i tried the cape cod ravoli, chicken, with cranberry,,,mmmm!',\n",
       "       'I WAS DISGUSTED BECAUSE I WAS PRETTY SURE THAT WAS HUMAN HAIR,',\n",
       "       'i was shocked because no signs indicate cash only,',\n",
       "       'HIGHLY RECOMMENDED,', 'waitress was a little slow in service,',\n",
       "       'THIS PLACE IS NOT WORTH YOUR TIME, LET ALONE VEGAS,',\n",
       "       'did not like at all,', 'THE BURRITTOS BLAH!',\n",
       "       'the food, amazing,', 'SERVICE IS ALSO CUTE,',\n",
       "       'i could care less,,, the interior is just beautiful,',\n",
       "       'SO THEY PERFORMED,',\n",
       "       \"that's right,,,,the red velvet cake,,,,,ohhh this stuff is so good,\",\n",
       "       '- THEY NEVER BROUGHT A SALAD WE ASKED FOR,',\n",
       "       'this hole in the wall has great mexican street tacos, and friendly staff,',\n",
       "       'TOOK AN HOUR TO GET OUR FOOD ONLY 4 TABLES IN RESTAURANT MY FOOD WAS LUKE WARM, OUR SEVER WAS RUNNING AROUND LIKE HE WAS TOTALLY OVERWHELMED,',\n",
       "       'the worst was the salmon sashimi,',\n",
       "       'ALSO THERE ARE COMBOS LIKE A BURGER, FRIES, AND BEER FOR 23 WHICH IS A DECENT DEAL,',\n",
       "       'this was like the final blow!',\n",
       "       'I FOUND THIS PLACE BY ACCIDENT AND I COULD NOT BE HAPPIER,',\n",
       "       'seems like a good quick place to grab a bite of some familiar pub food, but do yourself a favor and look elsewhere,',\n",
       "       'OVERALL, I LIKE THIS PLACE A LOT,',\n",
       "       'the only redeeming quality of the restaurant was that it was very inexpensive,',\n",
       "       'AMPLE PORTIONS AND GOOD PRICES,',\n",
       "       'poor service, the waiter made me feel like i was stupid every time he came to the table,',\n",
       "       'MY FIRST VISIT TO HIRO WAS A DELIGHT!', 'service sucks,',\n",
       "       'THE SHRIMP TENDER AND MOIST,',\n",
       "       'there is not a deal good enough that would drag me into that establishment again,',\n",
       "       \"HARD TO JUDGE WHETHER THESE SIDES WERE GOOD BECAUSE WE WERE GROSSED OUT BY THE MELTED STYROFOAM AND DIDN'T WANT TO EAT IT FOR FEAR OF GETTING SICK,\",\n",
       "       'on a positive note, our server was very attentive and provided great service,',\n",
       "       'FROZEN PUCKS OF DISGUST, WITH SOME OF THE WORST PEOPLE BEHIND THE REGISTER,',\n",
       "       'the only thing i did like was the prime rib and dessert section,',\n",
       "       \"IT'S TOO BAD THE FOOD IS SO DAMN GENERIC,\",\n",
       "       'the burger is good beef, cooked just right,',\n",
       "       'IF YOU WANT A SANDWICH JUST GO TO ANY FIREHOUSE!!!!!',\n",
       "       'my side greek salad with the greek dressing was so tasty, and the pita and hummus was very refreshing,',\n",
       "       'WE ORDERED THE DUCK RARE AND IT WAS PINK AND TENDER ON THE INSIDE WITH A NICE CHAR ON THE OUTSIDE,',\n",
       "       'he came running after us when he realized my husband had left his sunglasses on the table,',\n",
       "       'THEIR CHOW MEIN IS SO GOOD!',\n",
       "       \"they have horrible attitudes towards customers, and talk down to each one when customers don't enjoy their food,\",\n",
       "       'THE PORTION WAS HUGE!',\n",
       "       'loved it,,,friendly servers, great food, wonderful and imaginative menu,',\n",
       "       'THE HEART ATTACK GRILL IN DOWNTOWN VEGAS IS AN ABSOLUTELY FLAT-LINED EXCUSE FOR A RESTAURANT,',\n",
       "       'not much seafood and like 5 strings of pasta at the bottom,',\n",
       "       'THE SALAD HAD JUST THE RIGHT AMOUNT OF SAUCE TO NOT OVER POWER THE SCALLOP, WHICH WAS PERFECTLY COOKED,',\n",
       "       'the ripped banana was not only ripped, but petrified and tasteless,',\n",
       "       'AT LEAST THINK TO REFILL MY WATER BEFORE I STRUGGLE TO WAVE YOU OVER FOR 10 MINUTES,',\n",
       "       'this place receives stars for their appetizers!!!',\n",
       "       'THE COCKTAILS ARE ALL HANDMADE AND DELICIOUS,',\n",
       "       \"we'd definitely go back here again,\",\n",
       "       'WE ARE SO GLAD WE FOUND THIS PLACE,',\n",
       "       'great food and service, huge portions and they give a military discount,',\n",
       "       'ALWAYS A GREAT TIME AT DOS GRINGOS!',\n",
       "       'update,,,,,went back for a second time and it was still just as amazing',\n",
       "       'WE GOT THE FOOD AND APPARENTLY THEY HAVE NEVER HEARD OF SALT AND THE BATTER ON THE FISH WAS CHEWY,',\n",
       "       'a great way to finish a great,',\n",
       "       'THE DEAL INCLUDED 5 TASTINGS AND 2 DRINKS, AND JEFF WENT ABOVE AND BEYOND WHAT WE EXPECTED,',\n",
       "       '- really, really good rice, all the time,',\n",
       "       'THE SERVICE WAS MEH,',\n",
       "       'it took over 30 min to get their milkshake, which was nothing more than chocolate milk,',\n",
       "       \"I GUESS I SHOULD HAVE KNOWN THAT THIS PLACE WOULD SUCK, BECAUSE IT IS INSIDE OF THE EXCALIBUR, BUT I DIDN'T USE MY COMMON SENSE,\",\n",
       "       'the scallop dish is quite appalling for value as well,',\n",
       "       '2 TIMES - VERY BAD CUSTOMER SERVICE !',\n",
       "       'the sweet potato fries were very good and seasoned well,',\n",
       "       \"TODAY IS THE SECOND TIME I'VE BEEN TO THEIR LUNCH BUFFET AND IT WAS PRETTY GOOD,\",\n",
       "       'there is so much good food in vegas that i feel cheated for wasting an eating opportunity by going to rice and company,',\n",
       "       \"COMING HERE IS LIKE EXPERIENCING AN UNDERWHELMING RELATIONSHIP WHERE BOTH PARTIES CAN'T WAIT FOR THE OTHER PERSON TO ASK TO BREAK UP,\",\n",
       "       'walked in and the place smelled like an old grease trap and only 2 others there eating,',\n",
       "       'THE TURKEY AND ROAST BEEF WERE BLAND,', 'this place has it!',\n",
       "       'THE PAN CAKES EVERYONE ARE RAVING ABOUT TASTE LIKE A SUGARY DISASTER TAILORED TO THE PALATE OF A SIX YEAR OLD,',\n",
       "       'i love the pho and the spring rolls oh so yummy you have to try,',\n",
       "       'THE POOR BATTER TO MEAT RATIO MADE THE CHICKEN TENDERS VERY UNSATISFYING,',\n",
       "       'all i have to say is the food was amazing!!!',\n",
       "       'OMELETS ARE TO DIE FOR!', 'everything was fresh and delicious!',\n",
       "       'IN SUMMARY, THIS WAS A LARGELY DISAPPOINTING DINING EXPERIENCE,',\n",
       "       \"it's like a really sexy party in your mouth, where you're outrageously flirting with the hottest person at the party,\",\n",
       "       'NEVER BEEN TO HARD ROCK CASINO BEFORE, WILL NEVER EVER STEP FORWARD IN IT AGAIN!',\n",
       "       'best breakfast buffet!!!', 'SAY BYE BYE TO YOUR TIP LADY!',\n",
       "       \"we'll never go again,\", 'WILL BE BACK AGAIN!',\n",
       "       'food arrived quickly!', 'IT WAS NOT GOOD,',\n",
       "       'on the up side, their cafe serves really good food,',\n",
       "       'OUR SERVER WAS FANTASTIC AND WHEN HE FOUND OUT THE WIFE LOVES ROASTED GARLIC AND BONE MARROW, HE ADDED EXTRA TO OUR MEAL AND ANOTHER MARROW TO GO!',\n",
       "       \"the only good thing was our waiter, he was very helpful and kept the bloddy mary's coming,\",\n",
       "       'BEST BUFFET IN TOWN, FOR THE PRICE YOU CANNOT BEAT IT,',\n",
       "       'i loved their mussels cooked in this wine reduction, the duck was tender, and their potato dishes were delicious,',\n",
       "       'THIS IS ONE OF THE BETTER BUFFETS THAT I HAVE BEEN TO,',\n",
       "       'so we went to tigerlilly and had a fantastic afternoon!',\n",
       "       'THE FOOD WAS DELICIOUS, OUR BARTENDER WAS ATTENTIVE AND PERSONABLE AND WE GOT A GREAT DEAL!',\n",
       "       'the ambience is wonderful and there is music playing,',\n",
       "       'WILL GO BACK NEXT TRIP OUT,', 'sooooo good!!',\n",
       "       \"REAL SUSHI LOVERS, LET'S BE HONEST - YAMA IS NOT THAT GOOD,\",\n",
       "       \"at least 40min passed in between us ordering and the food arriving, and it wasn't that busy,\",\n",
       "       'THIS IS A REALLY FANTASTIC THAI RESTAURANT WHICH IS DEFINITELY WORTH A VISIT,',\n",
       "       'nice, spicy and tender,', 'GOOD PRICES,', 'check it out,',\n",
       "       'IT WAS PRETTY GROSS!', \"i've had better atmosphere,\",\n",
       "       'KIND OF HARD TO MESS UP A STEAK BUT THEY DID,',\n",
       "       'although i very much liked the look and sound of this place, the actual experience was a bit disappointing,',\n",
       "       \"I JUST DON'T KNOW HOW THIS PLACE MANAGED TO SERVED THE BLANDEST FOOD I HAVE EVER EATEN WHEN THEY ARE PREPARING INDIAN CUISINE,\",\n",
       "       'worst service to boot, but that is the least of their worries,',\n",
       "       'SERVICE WAS FINE AND THE WAITRESS WAS FRIENDLY,',\n",
       "       \"the guys all had steaks, and our steak loving son who has had steak at the best and worst places said it was the best steak he's ever eaten,\",\n",
       "       \"WE THOUGHT YOU'D HAVE TO VENTURE FURTHER AWAY TO GET GOOD SUSHI, BUT THIS PLACE REALLY HIT THE SPOT THAT NIGHT,\",\n",
       "       'host staff were, for lack of a better word, bitches!',\n",
       "       \"BLAND,,, NOT A LIKING THIS PLACE FOR A NUMBER OF REASONS AND I DON'T WANT TO WASTE TIME ON BAD REVIEWING,, I'LL LEAVE IT AT THAT,,,\",\n",
       "       'phenomenal food, service and ambiance,', \"I WOULDN'T RETURN,\",\n",
       "       \"definitely worth venturing off the strip for the pork belly, will return next time i'm in vegas,\",\n",
       "       'THIS PLACE IS WAY TOO OVERPRICED FOR MEDIOCRE FOOD,',\n",
       "       'penne vodka excellent!',\n",
       "       'THEY HAVE A GOOD SELECTION OF FOOD INCLUDING A MASSIVE MEATLOAF SANDWICH, A CRISPY CHICKEN WRAP, A DELISH TUNA MELT AND SOME TASTY BURGERS,',\n",
       "       'the management is rude,',\n",
       "       'DELICIOUS NYC BAGELS, GOOD SELECTIONS OF CREAM CHEESE, REAL LOX WITH CAPERS EVEN,',\n",
       "       \"great subway, in fact it's so good when you come here every other subway will not meet your expectations,\",\n",
       "       'I HAD A SERIOUSLY SOLID BREAKFAST HERE,',\n",
       "       'this is one of the best bars with food in vegas,',\n",
       "       'HE WAS EXTREMELY RUDE AND REALLY, THERE ARE SO MANY OTHER RESTAURANTS I WOULD LOVE TO DINE AT DURING A WEEKEND IN VEGAS,',\n",
       "       'my drink was never empty and he made some really great menu suggestions,',\n",
       "       \"DON'T DO IT!!!!\",\n",
       "       \"the waiter wasn't helpful or friendly and rarely checked on us,\",\n",
       "       'MY HUSBAND AND I ATE LUNCH HERE AND WERE V"
      ]
     },
     "execution_count": 9,
     "metadata": {},
     "output_type": "execute_result"
    },
    {
     "data": {
      "text/html": [
       "<b>limit_output extension: Maximum message size of 10000 exceeded with 68788 characters</b>"
      ]
     },
     "metadata": {},
     "output_type": "display_data"
    }
   ],
   "source": [
    "all_review"
   ]
  },
  {
   "cell_type": "markdown",
   "metadata": {},
   "source": [
    "### 將所有句子合併在一起，並以' / ' 為間隔"
   ]
  },
  {
   "cell_type": "code",
   "execution_count": 10,
   "metadata": {
    "ExecuteTime": {
     "end_time": "2020-11-18T13:24:35.315303Z",
     "start_time": "2020-11-18T13:24:35.307586Z"
    }
   },
   "outputs": [
    {
     "name": "stdout",
     "output_type": "stream",
     "text": [
      "WOW,,, LOVED THIS PLACE,//crust is not good,//NOT TASTY AND THE TEXTURE WAS JUST NASTY,//stopped by during the late may bank holiday off rick steve recommendation and loved it,//THE SELECTION ON THE MENU WAS GREAT AND SO WERE THE PRICES,//now i am getting angry and i want my damn pho,//HONESLTY IT DIDN'T TASTE THAT FRESH,)//the potatoes were like rubber and you could tell they had been made up ahead of time being kept under a warmer,//THE FRIES WERE GREAT TOO,//a great touch,//SERVICE WAS VERY PROMPT,//would not go back,//THE CASHIER HAD NO CARE WHAT SO EVER ON WHAT I HAD TO SAY IT STILL ENDED UP BEING WAYYY OVERPRICED,//i tried the cape cod ravoli, chicken, with cranberry,,,mmmm!//I WAS DISGUSTED BECAUSE I WAS PRETTY SURE THAT WAS HUMAN HAIR,//i was shocked because no signs indicate cash only,//HIGHLY RECOMMENDED,//waitress was a little slow in service,//THIS PLACE IS NOT WORTH YOUR TIME, LET ALONE VEGAS,//did not like at all,//THE BURRITTOS BLAH!//the food, amazing,//SERVICE IS ALSO CUTE,//i could care less,,, the interior is just beautiful,//SO THEY PERFORMED,//that's right,,,,the red velvet cake,,,,,ohhh this stuff is so good,//- THEY NEVER BROUGHT A SALAD WE ASKED FOR,//this hole in the wall has great mexican street tacos, and friendly staff,//TOOK AN HOUR TO GET OUR FOOD ONLY 4 TABLES IN RESTAURANT MY FOOD WAS LUKE WARM, OUR SEVER WAS RUNNING AROUND LIKE HE WAS TOTALLY OVERWHELMED,//the worst was the salmon sashimi,//ALSO THERE ARE COMBOS LIKE A BURGER, FRIES, AND BEER FOR 23 WHICH IS A DECENT DEAL,//this was like the final blow!//I FOUND THIS PLACE BY ACCIDENT AND I COULD NOT BE HAPPIER,//seems like a good quick place to grab a bite of some familiar pub food, but do yourself a favor and look elsewhere,//OVERALL, I LIKE THIS PLACE A LOT,//the only redeeming quality of the restaurant was that it was very inexpensive,//AMPLE PORTIONS AND GOOD PRICES,//poor service, the waiter made me feel like i was stupid every time he came to the table,//MY FIRST VISIT TO HIRO WAS A DELIGHT!//service sucks,//THE SHRIMP TENDER AND MOIST,//there is not a deal good enough that would drag me into that establishment again,//HARD TO JUDGE WHETHER THESE SIDES WERE GOOD BECAUSE WE WERE GROSSED OUT BY THE MELTED STYROFOAM AND DIDN'T WANT TO EAT IT FOR FEAR OF GETTING SICK,//on a positive note, our server was very attentive and provided great service,//FROZEN PUCKS OF DISGUST, WITH SOME OF THE WORST PEOPLE BEHIND THE REGISTER,//the only thing i did like was the prime rib and dessert section,//IT'S TOO BAD THE FOOD IS SO DAMN GENERIC,//the burger is good beef, cooked just right,//IF YOU WANT A SANDWICH JUST GO TO ANY FIREHOUSE!!!!!//my side greek salad with the greek dressing was so tasty, and the pita and hummus was very refreshing,//WE ORDERED THE DUCK RARE AND IT WAS PINK AND TENDER ON THE INSIDE WITH A NICE CHAR ON THE OUTSIDE,//he came running after us when he realized my husband had left his sunglasses on the table,//THEIR CHOW MEIN IS SO GOOD!//they have horrible attitudes towards customers, and talk down to each one when customers don't enjoy their food,//THE PORTION WAS HUGE!//loved it,,,friendly servers, great food, wonderful and imaginative menu,//THE HEART ATTACK GRILL IN DOWNTOWN VEGAS IS AN ABSOLUTELY FLAT-LINED EXCUSE FOR A RESTAURANT,//not much seafood and like 5 strings of pasta at the bottom,//THE SALAD HAD JUST THE RIGHT AMOUNT OF SAUCE TO NOT OVER POWER THE SCALLOP, WHICH WAS PERFECTLY COOKED,//the ripped banana was not only ripped, but petrified and tasteless,//AT LEAST THINK TO REFILL MY WATER BEFORE I STRUGGLE TO WAVE YOU OVER FOR 10 MINUTES,//this place receives stars for their appetizers!!!//THE COCKTAILS ARE ALL HANDMADE AND DELICIOUS,//we'd definitely go back here again,//WE ARE SO GLAD WE FOUND THIS PLACE,//great food and service, huge portions and they give a military discount,//ALWAYS A GREAT TIME AT DOS GRINGOS!//update,,,,,went back for a second time and it was still just as amazing//WE GOT THE FOOD AND APPARENTLY THEY HAVE NEVER HEARD OF SALT AND THE BATTER ON THE FISH WAS CHEWY,//a great way to finish a great,//THE DEAL INCLUDED 5 TASTINGS AND 2 DRINKS, AND JEFF WENT ABOVE AND BEYOND WHAT WE EXPECTED,//- really, really good rice, all the time,//THE SERVICE WAS MEH,//it took over 30 min to get their milkshake, which was nothing more than chocolate milk,//I GUESS I SHOULD HAVE KNOWN THAT THIS PLACE WOULD SUCK, BECAUSE IT IS INSIDE OF THE EXCALIBUR, BUT I DIDN'T USE MY COMMON SENSE,//the scallop dish is quite appalling for value as well,//2 TIMES - VERY BAD CUSTOMER SERVICE !//the sweet potato fries were very good and seasoned well,//TODAY IS THE SECOND TIME I'VE BEEN TO THEIR LUNCH BUFFET AND IT WAS PRETTY GOOD,//there is so much good food in vegas that i feel cheated for wasting an eating opportunity by going to rice and company,//COMING HERE IS LIKE EXPERIENCING AN UNDERWHELMING RELATIONSHIP WHERE BOTH PARTIES CAN'T WAIT FOR THE OTHER PERSON TO ASK TO BREAK UP,//walked in and the place smelled like an old grease trap and only 2 others there eating,//THE TURKEY AND ROAST BEEF WERE BLAND,//this place has it!//THE PAN CAKES EVERYONE ARE RAVING ABOUT TASTE LIKE A SUGARY DISASTER TAILORED TO THE PALATE OF A SIX YEAR OLD,//i love the pho and the spring rolls oh so yummy you have to try,//THE POOR BATTER TO MEAT RATIO MADE THE CHICKEN TENDERS VERY UNSATISFYING,//all i have to say is the food was amazing!!!//OMELETS ARE TO DIE FOR!//everything was fresh and delicious!//IN SUMMARY, THIS WAS A LARGELY DISAPPOINTING DINING EXPERIENCE,//it's like a really sexy party in your mouth, where you're outrageously flirting with the hottest person at the party,//NEVER BEEN TO HARD ROCK CASINO BEFORE, WILL NEVER EVER STEP FORWARD IN IT AGAIN!//best breakfast buffet!!!//SAY BYE BYE TO YOUR TIP LADY!//we'll never go again,//WILL BE BACK AGAIN!//food arrived quickly!//IT WAS NOT GOOD,//on the up side, their cafe serves really good food,//OUR SERVER WAS FANTASTIC AND WHEN HE FOUND OUT THE WIFE LOVES ROASTED GARLIC AND BONE MARROW, HE ADDED EXTRA TO OUR MEAL AND ANOTHER MARROW TO GO!//the only good thing was our waiter, he was very helpful and kept the bloddy mary's coming,//BEST BUFFET IN TOWN, FOR THE PRICE YOU CANNOT BEAT IT,//i loved their mussels cooked in this wine reduction, the duck was tender, and their potato dishes were delicious,//THIS IS ONE OF THE BETTER BUFFETS THAT I HAVE BEEN TO,//so we went to tigerlilly and had a fantastic afternoon!//THE FOOD WAS DELICIOUS, OUR BARTENDER WAS ATTENTIVE AND PERSONABLE AND WE GOT A GREAT DEAL!//the ambience is wonderful and there is music playing,//WILL GO BACK NEXT TRIP OUT,//sooooo good!!//REAL SUSHI LOVERS, LET'S BE HONEST - YAMA IS NOT THAT GOOD,//at least 40min passed in between us ordering and the food arriving, and it wasn't that busy,//THIS IS A REALLY FANTASTIC THAI RESTAURANT WHICH IS DEFINITELY WORTH A VISIT,//nice, spicy and tender,//GOOD PRICES,//check it out,//IT WAS PRETTY GROSS!//i've had better atmosphere,//KIND OF HARD TO MESS UP A STEAK BUT THEY DID,//although i very much liked the look and sound of this place, the actual experience was a bit disappointing,//I JUST DON'T KNOW HOW THIS PLACE MANAGED TO SERVED THE BLANDEST FOOD I HAVE EVER EATEN WHEN THEY ARE PREPARING INDIAN CUISINE,//worst service to boot, but that is the least of their worries,//SERVICE WAS FINE AND THE WAITRESS WAS FRIENDLY,//the guys all had steaks, and our steak loving son who has had steak at the best and worst places said it was the best steak he's ever eaten,//WE THOUGHT YOU'D HAVE TO VENTURE FURTHER AWAY TO GET GOOD SUSHI, BUT THIS PLACE REALLY HIT THE SPOT THAT NIGHT,//host staff were, for lack of a better word, bitches!//BLAND,,, NOT A LIKING THIS PLACE FOR A NUMBER OF REASONS AND I DON'T WANT TO WASTE TIME ON BAD REVIEWING,, I'LL LEAVE IT AT THAT,,,//phenomenal food, service and ambiance,//I WOULDN'T RETURN,//definitely worth venturing off the strip for the pork belly, will return next time i'm in vegas,//THIS PLACE IS WAY TOO OVERPRICED FOR MEDIOCRE FOOD,//penne vodka excellent!//THEY HAVE A GOOD SELECTION OF FOOD INCLUDING A MASSIVE MEATLOAF SANDWICH, A CRISPY CHICKEN WRAP, A DELISH TUNA MELT AND SOME TASTY BURGERS,//the management is rude,//DELICIOUS NYC BAGELS, GOOD SELECTIONS OF CREAM CHEESE, REAL LOX WITH CAPERS EVEN,//great subway, in fact it's so good when you come here every other subway will not meet your expectations,//I HAD A SERIOUSLY SOLID BREAKFAST HERE,//this is one of the best bars with food in vegas,//HE WAS EXTREMELY RUDE AND REALLY, THERE ARE SO MANY OTHER RESTAURANTS I WOULD LOVE TO DINE AT DURING A WEEKEND IN VEGAS,//my drink was never empty and he made some really great menu suggestions,//DON'T DO IT!!!!//the waiter wasn't helpful or friendly and rarely checked on us,//MY HUSBAND AND I ATE LUNCH HERE AND WERE VERY DISAPPOINTED WITH THE FOOD AND SERVICE,//and the red curry had so much bamboo shoots and wasn't very tasty to me,//NICE BLANKET OF MOZ OVER TOP BUT I FEEL LIKE THIS WAS DONE TO COVER UP THE SUBPAR FOOD,//the bathrooms are clean and the place itself is well decorated,//THE MENU IS ALWAYS CHANGING, FOOD QUALITY IS GOING DOWN & SERVICE IS EXTREMELY SLOW,//the service was a little slow , considering that were served by 3 people servers so the food was coming in a slow pace,//I GIVE IT 2 THUMBS DOWN//we watched our waiter pay a lot more attention to other tables and ignore us,//MY FIANCÉ AND I CAME IN THE MIDDLE OF THE DAY AND WE WERE GREETED AND SEATED RIGHT AWAY,//this is a great restaurant at the mandalay bay,//WE WAITED FOR FORTY FIVE MINUTES IN VAIN,//crostini that came with the salad was stale,//SOME HIGHLIGHTS : GREAT QUALITY NIGIRI HERE!//the staff is friendly and the joint is always clean,//THIS WAS A DIFFERENT CUT THAN THE PIECE THE OTHER DAY BUT STILL WONDERFUL AND TENDER S WELL AS WELL FLAVORED,//i ordered the voodoo pasta and it was the first time i'd had really excellent pasta since going gluten free several years ago,//THIS PLACE IS GO"
     ]
    },
    {
     "data": {
      "text/html": [
       "<b>limit_output extension: Maximum message size of 10000 exceeded with 60314 characters</b>"
      ]
     },
     "metadata": {},
     "output_type": "display_data"
    }
   ],
   "source": [
    "combined_sentences = all_review[0]\n",
    "\n",
    "for c in range(1, len(all_review)): \n",
    "    combined_sentences = '//'.join([combined_sentences, all_review[c]])\n",
    "\n",
    "print(combined_sentences)\n",
    "\n",
    "# sample answer\n",
    "'//'.join(all_review)"
   ]
  },
  {
   "cell_type": "code",
   "execution_count": null,
   "metadata": {},
   "outputs": [],
   "source": []
  }
 ],
 "metadata": {
  "kernelspec": {
   "display_name": "Python 3",
   "language": "python",
   "name": "python3"
  },
  "language_info": {
   "codemirror_mode": {
    "name": "ipython",
    "version": 3
   },
   "file_extension": ".py",
   "mimetype": "text/x-python",
   "name": "python",
   "nbconvert_exporter": "python",
   "pygments_lexer": "ipython3",
   "version": "3.8.3"
  },
  "toc": {
   "base_numbering": 1,
   "nav_menu": {},
   "number_sections": true,
   "sideBar": true,
   "skip_h1_title": false,
   "title_cell": "Table of Contents",
   "title_sidebar": "Contents",
   "toc_cell": false,
   "toc_position": {},
   "toc_section_display": true,
   "toc_window_display": false
  }
 },
 "nbformat": 4,
 "nbformat_minor": 2
}
