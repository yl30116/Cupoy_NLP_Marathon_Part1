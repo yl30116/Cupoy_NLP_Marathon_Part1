{
 "cells": [
  {
   "cell_type": "markdown",
   "metadata": {},
   "source": [
    "# String Operation"
   ]
  },
  {
   "cell_type": "markdown",
   "metadata": {},
   "source": [
    "---"
   ]
  },
  {
   "cell_type": "markdown",
   "metadata": {},
   "source": [
    "## 讀入練習資料"
   ]
  },
  {
   "cell_type": "code",
   "execution_count": 7,
   "metadata": {
    "ExecuteTime": {
     "end_time": "2020-11-18T12:45:02.150531Z",
     "start_time": "2020-11-18T12:45:02.133348Z"
    }
   },
   "outputs": [
    {
     "data": {
      "text/html": [
       "<div>\n",
       "<style scoped>\n",
       "    .dataframe tbody tr th:only-of-type {\n",
       "        vertical-align: middle;\n",
       "    }\n",
       "\n",
       "    .dataframe tbody tr th {\n",
       "        vertical-align: top;\n",
       "    }\n",
       "\n",
       "    .dataframe thead th {\n",
       "        text-align: right;\n",
       "    }\n",
       "</style>\n",
       "<table border=\"1\" class=\"dataframe\">\n",
       "  <thead>\n",
       "    <tr style=\"text-align: right;\">\n",
       "      <th></th>\n",
       "      <th>Review</th>\n",
       "      <th>Liked</th>\n",
       "    </tr>\n",
       "  </thead>\n",
       "  <tbody>\n",
       "    <tr>\n",
       "      <th>0</th>\n",
       "      <td>Wow... Loved this place.</td>\n",
       "      <td>1</td>\n",
       "    </tr>\n",
       "    <tr>\n",
       "      <th>1</th>\n",
       "      <td>Crust is not good.</td>\n",
       "      <td>0</td>\n",
       "    </tr>\n",
       "    <tr>\n",
       "      <th>2</th>\n",
       "      <td>Not tasty and the texture was just nasty.</td>\n",
       "      <td>0</td>\n",
       "    </tr>\n",
       "    <tr>\n",
       "      <th>3</th>\n",
       "      <td>Stopped by during the late May bank holiday of...</td>\n",
       "      <td>1</td>\n",
       "    </tr>\n",
       "    <tr>\n",
       "      <th>4</th>\n",
       "      <td>The selection on the menu was great and so wer...</td>\n",
       "      <td>1</td>\n",
       "    </tr>\n",
       "    <tr>\n",
       "      <th>...</th>\n",
       "      <td>...</td>\n",
       "      <td>...</td>\n",
       "    </tr>\n",
       "    <tr>\n",
       "      <th>995</th>\n",
       "      <td>I think food should have flavor and texture an...</td>\n",
       "      <td>0</td>\n",
       "    </tr>\n",
       "    <tr>\n",
       "      <th>996</th>\n",
       "      <td>Appetite instantly gone.</td>\n",
       "      <td>0</td>\n",
       "    </tr>\n",
       "    <tr>\n",
       "      <th>997</th>\n",
       "      <td>Overall I was not impressed and would not go b...</td>\n",
       "      <td>0</td>\n",
       "    </tr>\n",
       "    <tr>\n",
       "      <th>998</th>\n",
       "      <td>The whole experience was underwhelming, and I ...</td>\n",
       "      <td>0</td>\n",
       "    </tr>\n",
       "    <tr>\n",
       "      <th>999</th>\n",
       "      <td>Then, as if I hadn't wasted enough of my life ...</td>\n",
       "      <td>0</td>\n",
       "    </tr>\n",
       "  </tbody>\n",
       "</table>\n",
       "<p>1000 rows × 2 columns</p>\n",
       "</div>"
      ],
      "text/plain": [
       "                                                Review  Liked\n",
       "0                             Wow... Loved this place.      1\n",
       "1                                   Crust is not good.      0\n",
       "2            Not tasty and the texture was just nasty.      0\n",
       "3    Stopped by during the late May bank holiday of...      1\n",
       "4    The selection on the menu was great and so wer...      1\n",
       "..                                                 ...    ...\n",
       "995  I think food should have flavor and texture an...      0\n",
       "996                           Appetite instantly gone.      0\n",
       "997  Overall I was not impressed and would not go b...      0\n",
       "998  The whole experience was underwhelming, and I ...      0\n",
       "999  Then, as if I hadn't wasted enough of my life ...      0\n",
       "\n",
       "[1000 rows x 2 columns]"
      ]
     },
     "execution_count": 7,
     "metadata": {},
     "output_type": "execute_result"
    }
   ],
   "source": [
    "import pandas as pd\n",
    "#TSV文件有別於CSV的文件是使用\\t作为分隔符，CSV則是使用,作为分隔符。\n",
    "dataset = pd.read_csv(r'Restaurant_Reviews.tsv', sep='\\t')\n",
    "dataset"
   ]
  },
  {
   "cell_type": "code",
   "execution_count": 10,
   "metadata": {
    "ExecuteTime": {
     "end_time": "2020-11-18T12:47:04.618700Z",
     "start_time": "2020-11-18T12:47:04.612759Z"
    }
   },
   "outputs": [
    {
     "data": {
      "text/plain": [
       "array(['Wow... Loved this place.', 'Crust is not good.',\n",
       "       'Not tasty and the texture was just nasty.',\n",
       "       'Stopped by during the late May bank holiday off Rick Steve recommendation and loved it.',\n",
       "       'The selection on the menu was great and so were the prices.'],\n",
       "      dtype=object)"
      ]
     },
     "execution_count": 10,
     "metadata": {},
     "output_type": "execute_result"
    }
   ],
   "source": [
    "all_review = dataset['Review'].values\n",
    "all_review[0:5]"
   ]
  },
  {
   "cell_type": "markdown",
   "metadata": {},
   "source": [
    "### 計算字串長度"
   ]
  },
  {
   "cell_type": "code",
   "execution_count": 11,
   "metadata": {
    "ExecuteTime": {
     "end_time": "2020-11-18T12:47:24.683484Z",
     "start_time": "2020-11-18T12:47:24.677862Z"
    }
   },
   "outputs": [
    {
     "data": {
      "text/plain": [
       "'Wow... Loved this place.'"
      ]
     },
     "execution_count": 11,
     "metadata": {},
     "output_type": "execute_result"
    }
   ],
   "source": [
    "pratice_sentence = all_review[0]\n",
    "pratice_sentence"
   ]
  },
  {
   "cell_type": "code",
   "execution_count": 12,
   "metadata": {
    "ExecuteTime": {
     "end_time": "2020-11-18T12:47:34.044340Z",
     "start_time": "2020-11-18T12:47:34.039208Z"
    }
   },
   "outputs": [
    {
     "name": "stdout",
     "output_type": "stream",
     "text": [
      "原始字串: Wow... Loved this place.\n",
      "字串長度: 24\n"
     ]
    }
   ],
   "source": [
    "## format 用法之後會有詳細講解，這裡先了解會將後方字串放入{}即可\n",
    "print('原始字串: {}'.format(pratice_sentence))\n",
    "## 運用len()得到字串長度\n",
    "print('字串長度: {}'.format(len(pratice_sentence)))"
   ]
  },
  {
   "cell_type": "markdown",
   "metadata": {},
   "source": [
    "### 取出特定字符"
   ]
  },
  {
   "cell_type": "code",
   "execution_count": 13,
   "metadata": {
    "ExecuteTime": {
     "end_time": "2020-11-18T12:47:40.120440Z",
     "start_time": "2020-11-18T12:47:40.115349Z"
    }
   },
   "outputs": [
    {
     "name": "stdout",
     "output_type": "stream",
     "text": [
      "取出前五個字: Wow..\n",
      "取出後五個字: lace.\n",
      "取出後中間五個字: . Lov\n"
     ]
    }
   ],
   "source": [
    "print('取出前五個字: {}'.format(pratice_sentence[:5]))\n",
    "print('取出後五個字: {}'.format(pratice_sentence[-5:]))\n",
    "print('取出後中間五個字: {}'.format(pratice_sentence[5:10]))"
   ]
  },
  {
   "cell_type": "markdown",
   "metadata": {},
   "source": [
    "### 合併字串"
   ]
  },
  {
   "cell_type": "code",
   "execution_count": 14,
   "metadata": {
    "ExecuteTime": {
     "end_time": "2020-11-18T12:48:22.522763Z",
     "start_time": "2020-11-18T12:48:22.517584Z"
    }
   },
   "outputs": [
    {
     "name": "stdout",
     "output_type": "stream",
     "text": [
      "原始字串1: Wow... Loved this place.\n",
      "原始字串2: Crust is not good.\n"
     ]
    }
   ],
   "source": [
    "print('原始字串1: {}'.format(all_review[0]))\n",
    "print('原始字串2: {}'.format(all_review[1]))"
   ]
  },
  {
   "cell_type": "code",
   "execution_count": 15,
   "metadata": {
    "ExecuteTime": {
     "end_time": "2020-11-18T12:48:27.448443Z",
     "start_time": "2020-11-18T12:48:27.442937Z"
    }
   },
   "outputs": [
    {
     "data": {
      "text/plain": [
       "'Wow... Loved this place.Crust is not good.'"
      ]
     },
     "execution_count": 15,
     "metadata": {},
     "output_type": "execute_result"
    }
   ],
   "source": [
    "##運用+符號可以直接合併兩字串\n",
    "all_review[0]+all_review[1]"
   ]
  },
  {
   "cell_type": "code",
   "execution_count": 16,
   "metadata": {
    "ExecuteTime": {
     "end_time": "2020-11-18T12:48:28.681475Z",
     "start_time": "2020-11-18T12:48:28.675430Z"
    }
   },
   "outputs": [
    {
     "data": {
      "text/plain": [
       "'Wow... Loved this place.Crust is not good.'"
      ]
     },
     "execution_count": 16,
     "metadata": {},
     "output_type": "execute_result"
    }
   ],
   "source": [
    "## 運用join function\n",
    "''.join((all_review[0],all_review[1]))"
   ]
  },
  {
   "cell_type": "code",
   "execution_count": 17,
   "metadata": {
    "ExecuteTime": {
     "end_time": "2020-11-18T12:48:32.239230Z",
     "start_time": "2020-11-18T12:48:32.234026Z"
    }
   },
   "outputs": [
    {
     "data": {
      "text/plain": [
       "'Wow... Loved this place./Crust is not good.'"
      ]
     },
     "execution_count": 17,
     "metadata": {},
     "output_type": "execute_result"
    }
   ],
   "source": [
    "## 加入separator\n",
    "'/'.join((all_review[0],all_review[1]),)"
   ]
  },
  {
   "cell_type": "markdown",
   "metadata": {},
   "source": [
    "### 常用特殊字符"
   ]
  },
  {
   "cell_type": "code",
   "execution_count": 25,
   "metadata": {
    "ExecuteTime": {
     "end_time": "2020-11-18T12:54:28.523452Z",
     "start_time": "2020-11-18T12:54:28.517233Z"
    }
   },
   "outputs": [
    {
     "name": "stdout",
     "output_type": "stream",
     "text": [
      "Wow... Loved this place.\tCrust is not good.\n",
      "Wow... Loved this place.        Crust is not good.\n",
      "Wow... Loved this place.\r",
      "Crust is not good.aaa\r",
      "bbbbb\n"
     ]
    }
   ],
   "source": [
    "## '\\t' == 8個空白格\n",
    "print(all_review[0]+'\\t'+all_review[1])\n",
    "##意思跟上方相同\n",
    "print(all_review[0]+'        '+all_review[1])\n",
    "print(all_review[0] + '\\r' + all_review[1] + 'aaa' + '\\r' + 'bbbbb') # \\r: return to the start of this line (index = 0)"
   ]
  },
  {
   "cell_type": "code",
   "execution_count": 23,
   "metadata": {
    "ExecuteTime": {
     "end_time": "2020-11-18T12:54:01.421083Z",
     "start_time": "2020-11-18T12:54:01.416175Z"
    }
   },
   "outputs": [
    {
     "name": "stdout",
     "output_type": "stream",
     "text": [
      "Wow... Loved this place.\n",
      "Crust is not good.\n"
     ]
    }
   ],
   "source": [
    "## '\\n' 換行\n",
    "print(all_review[0]+'\\n'+all_review[1])"
   ]
  },
  {
   "cell_type": "markdown",
   "metadata": {},
   "source": [
    "## 檢查字元是否在字串內"
   ]
  },
  {
   "cell_type": "code",
   "execution_count": 26,
   "metadata": {
    "ExecuteTime": {
     "end_time": "2020-11-18T12:55:01.634051Z",
     "start_time": "2020-11-18T12:55:01.629079Z"
    }
   },
   "outputs": [
    {
     "name": "stdout",
     "output_type": "stream",
     "text": [
      "原始字串:   Crust is not good.\n"
     ]
    }
   ],
   "source": [
    "pratice_sentence = all_review[1]\n",
    "print('原始字串:   {}'.format(pratice_sentence))"
   ]
  },
  {
   "cell_type": "code",
   "execution_count": 27,
   "metadata": {
    "ExecuteTime": {
     "end_time": "2020-11-18T12:55:05.168857Z",
     "start_time": "2020-11-18T12:55:05.162974Z"
    }
   },
   "outputs": [
    {
     "data": {
      "text/plain": [
       "True"
      ]
     },
     "execution_count": 27,
     "metadata": {},
     "output_type": "execute_result"
    }
   ],
   "source": [
    "'is' in pratice_sentence"
   ]
  },
  {
   "cell_type": "code",
   "execution_count": 28,
   "metadata": {
    "ExecuteTime": {
     "end_time": "2020-11-18T12:55:06.424735Z",
     "start_time": "2020-11-18T12:55:06.419233Z"
    }
   },
   "outputs": [
    {
     "data": {
      "text/plain": [
       "False"
      ]
     },
     "execution_count": 28,
     "metadata": {},
     "output_type": "execute_result"
    }
   ],
   "source": [
    "'I' in pratice_sentence"
   ]
  },
  {
   "cell_type": "code",
   "execution_count": 29,
   "metadata": {
    "ExecuteTime": {
     "end_time": "2020-11-18T12:55:07.861692Z",
     "start_time": "2020-11-18T12:55:07.855947Z"
    }
   },
   "outputs": [
    {
     "data": {
      "text/plain": [
       "True"
      ]
     },
     "execution_count": 29,
     "metadata": {},
     "output_type": "execute_result"
    }
   ],
   "source": [
    "'I' not in pratice_sentence"
   ]
  },
  {
   "cell_type": "markdown",
   "metadata": {},
   "source": [
    "### strip() "
   ]
  },
  {
   "cell_type": "code",
   "execution_count": 30,
   "metadata": {
    "ExecuteTime": {
     "end_time": "2020-11-18T12:55:11.502693Z",
     "start_time": "2020-11-18T12:55:11.499165Z"
    }
   },
   "outputs": [],
   "source": [
    "pratice_sentence = all_review[1]"
   ]
  },
  {
   "cell_type": "code",
   "execution_count": 31,
   "metadata": {
    "ExecuteTime": {
     "end_time": "2020-11-18T12:55:16.216581Z",
     "start_time": "2020-11-18T12:55:16.212015Z"
    }
   },
   "outputs": [
    {
     "name": "stdout",
     "output_type": "stream",
     "text": [
      "原始字串:   Crust is not good.\n"
     ]
    }
   ],
   "source": [
    "print('原始字串:   {}'.format(pratice_sentence))"
   ]
  },
  {
   "cell_type": "code",
   "execution_count": 32,
   "metadata": {
    "ExecuteTime": {
     "end_time": "2020-11-18T12:55:17.814450Z",
     "start_time": "2020-11-18T12:55:17.808992Z"
    }
   },
   "outputs": [
    {
     "data": {
      "text/plain": [
       "' is not good.'"
      ]
     },
     "execution_count": 32,
     "metadata": {},
     "output_type": "execute_result"
    }
   ],
   "source": [
    "## 移除開頭\n",
    "pratice_sentence.strip('Crust')"
   ]
  },
  {
   "cell_type": "code",
   "execution_count": 36,
   "metadata": {
    "ExecuteTime": {
     "end_time": "2020-11-18T12:56:39.451580Z",
     "start_time": "2020-11-18T12:56:39.445710Z"
    }
   },
   "outputs": [
    {
     "data": {
      "text/plain": [
       "'ust is not good.'"
      ]
     },
     "execution_count": 36,
     "metadata": {},
     "output_type": "execute_result"
    }
   ],
   "source": [
    "pratice_sentence.strip('Cr')"
   ]
  },
  {
   "cell_type": "code",
   "execution_count": 33,
   "metadata": {
    "ExecuteTime": {
     "end_time": "2020-11-18T12:55:18.662766Z",
     "start_time": "2020-11-18T12:55:18.657524Z"
    }
   },
   "outputs": [
    {
     "data": {
      "text/plain": [
       "'Crust is not '"
      ]
     },
     "execution_count": 33,
     "metadata": {},
     "output_type": "execute_result"
    }
   ],
   "source": [
    "## 移除尾部\n",
    "pratice_sentence.strip('good.')"
   ]
  },
  {
   "cell_type": "code",
   "execution_count": 34,
   "metadata": {
    "ExecuteTime": {
     "end_time": "2020-11-18T12:55:41.292111Z",
     "start_time": "2020-11-18T12:55:41.286648Z"
    }
   },
   "outputs": [
    {
     "data": {
      "text/plain": [
       "'Crust is not good'"
      ]
     },
     "execution_count": 34,
     "metadata": {},
     "output_type": "execute_result"
    }
   ],
   "source": [
    "pratice_sentence.strip('.')"
   ]
  },
  {
   "cell_type": "code",
   "execution_count": 37,
   "metadata": {
    "ExecuteTime": {
     "end_time": "2020-11-18T12:57:07.954150Z",
     "start_time": "2020-11-18T12:57:07.949015Z"
    }
   },
   "outputs": [
    {
     "data": {
      "text/plain": [
       "'Crust is not good.'"
      ]
     },
     "execution_count": 37,
     "metadata": {},
     "output_type": "execute_result"
    }
   ],
   "source": [
    "## 由於is並不是開頭或結尾字符，因此返回原字串\n",
    "pratice_sentence.strip('is')"
   ]
  },
  {
   "cell_type": "code",
   "execution_count": 38,
   "metadata": {
    "ExecuteTime": {
     "end_time": "2020-11-18T12:57:24.108303Z",
     "start_time": "2020-11-18T12:57:24.102393Z"
    }
   },
   "outputs": [
    {
     "data": {
      "text/plain": [
       "'Crust is not good.'"
      ]
     },
     "execution_count": 38,
     "metadata": {},
     "output_type": "execute_result"
    }
   ],
   "source": [
    "##移除開頭空格\n",
    "' Crust is not good.'.strip()"
   ]
  },
  {
   "cell_type": "markdown",
   "metadata": {},
   "source": [
    "### replace()"
   ]
  },
  {
   "cell_type": "code",
   "execution_count": 39,
   "metadata": {
    "ExecuteTime": {
     "end_time": "2020-11-18T12:57:27.844992Z",
     "start_time": "2020-11-18T12:57:27.839986Z"
    }
   },
   "outputs": [
    {
     "name": "stdout",
     "output_type": "stream",
     "text": [
      "原始字串:   Not tasty and the texture was just nasty.\n"
     ]
    }
   ],
   "source": [
    "pratice_sentence = all_review[2]\n",
    "print('原始字串:   {}'.format(pratice_sentence))"
   ]
  },
  {
   "cell_type": "code",
   "execution_count": 40,
   "metadata": {
    "ExecuteTime": {
     "end_time": "2020-11-18T12:57:36.607857Z",
     "start_time": "2020-11-18T12:57:36.602493Z"
    }
   },
   "outputs": [
    {
     "data": {
      "text/plain": [
       "'Not tasty and the texture was just disgusting.'"
      ]
     },
     "execution_count": 40,
     "metadata": {},
     "output_type": "execute_result"
    }
   ],
   "source": [
    "## 用disgusting取代nasty\n",
    "pratice_sentence.replace('nasty','disgusting')"
   ]
  },
  {
   "cell_type": "code",
   "execution_count": 41,
   "metadata": {
    "ExecuteTime": {
     "end_time": "2020-11-18T12:57:45.218859Z",
     "start_time": "2020-11-18T12:57:45.213499Z"
    }
   },
   "outputs": [
    {
     "name": "stdout",
     "output_type": "stream",
     "text": [
      "NoT TasTy and The TexTure was jusT nasTy.\n",
      "NoT Tasty and the texture was just nasty.\n"
     ]
    }
   ],
   "source": [
    "## 最多取代兩次\n",
    "print(pratice_sentence.replace('t','T'))\n",
    "print(pratice_sentence.replace('t','T',2))"
   ]
  },
  {
   "cell_type": "markdown",
   "metadata": {},
   "source": [
    "### split()"
   ]
  },
  {
   "cell_type": "code",
   "execution_count": 42,
   "metadata": {
    "ExecuteTime": {
     "end_time": "2020-11-18T12:57:48.104549Z",
     "start_time": "2020-11-18T12:57:48.097749Z"
    }
   },
   "outputs": [
    {
     "name": "stdout",
     "output_type": "stream",
     "text": [
      "原始字串:   Stopped by during the late May bank holiday off Rick Steve recommendation and loved it.\n"
     ]
    }
   ],
   "source": [
    "pratice_sentence = all_review[3]\n",
    "print('原始字串:   {}'.format(pratice_sentence))"
   ]
  },
  {
   "cell_type": "code",
   "execution_count": 43,
   "metadata": {
    "ExecuteTime": {
     "end_time": "2020-11-18T12:57:50.169553Z",
     "start_time": "2020-11-18T12:57:50.164388Z"
    }
   },
   "outputs": [
    {
     "data": {
      "text/plain": [
       "['Stopped',\n",
       " 'by',\n",
       " 'during',\n",
       " 'the',\n",
       " 'late',\n",
       " 'May',\n",
       " 'bank',\n",
       " 'holiday',\n",
       " 'off',\n",
       " 'Rick',\n",
       " 'Steve',\n",
       " 'recommendation',\n",
       " 'and',\n",
       " 'loved',\n",
       " 'it.']"
      ]
     },
     "execution_count": 43,
     "metadata": {},
     "output_type": "execute_result"
    }
   ],
   "source": [
    "##用空格當分界隔開字串\n",
    "pratice_sentence.split(' ') # pratice_sentence.split()"
   ]
  },
  {
   "cell_type": "code",
   "execution_count": 44,
   "metadata": {
    "ExecuteTime": {
     "end_time": "2020-11-18T12:58:07.081733Z",
     "start_time": "2020-11-18T12:58:07.075789Z"
    }
   },
   "outputs": [
    {
     "data": {
      "text/plain": [
       "['Stopped',\n",
       " 'by',\n",
       " 'during',\n",
       " 'the',\n",
       " 'late',\n",
       " 'May',\n",
       " 'bank',\n",
       " 'holiday',\n",
       " 'off',\n",
       " 'Rick',\n",
       " 'Steve recommendation and loved it.']"
      ]
     },
     "execution_count": 44,
     "metadata": {},
     "output_type": "execute_result"
    }
   ],
   "source": [
    "##最多隔成10等分\n",
    "pratice_sentence.split(' ',maxsplit=10)"
   ]
  },
  {
   "cell_type": "markdown",
   "metadata": {},
   "source": [
    "--------"
   ]
  },
  {
   "cell_type": "markdown",
   "metadata": {},
   "source": [
    "### count()"
   ]
  },
  {
   "cell_type": "code",
   "execution_count": 45,
   "metadata": {
    "ExecuteTime": {
     "end_time": "2020-11-18T12:58:12.621555Z",
     "start_time": "2020-11-18T12:58:12.616972Z"
    }
   },
   "outputs": [
    {
     "name": "stdout",
     "output_type": "stream",
     "text": [
      "原始字串:   The selection on the menu was great and so were the prices.\n"
     ]
    }
   ],
   "source": [
    "pratice_sentence = all_review[4]\n",
    "print('原始字串:   {}'.format(pratice_sentence))"
   ]
  },
  {
   "cell_type": "code",
   "execution_count": 46,
   "metadata": {
    "ExecuteTime": {
     "end_time": "2020-11-18T12:58:13.675685Z",
     "start_time": "2020-11-18T12:58:13.670230Z"
    }
   },
   "outputs": [
    {
     "data": {
      "text/plain": [
       "3"
      ]
     },
     "execution_count": 46,
     "metadata": {},
     "output_type": "execute_result"
    }
   ],
   "source": [
    "## 計算a出現次數\n",
    "pratice_sentence.count('a') ## == pratice_sentence.count('a',0,len(pratice_sentence))"
   ]
  },
  {
   "cell_type": "code",
   "execution_count": 47,
   "metadata": {
    "ExecuteTime": {
     "end_time": "2020-11-18T12:58:14.799720Z",
     "start_time": "2020-11-18T12:58:14.794492Z"
    }
   },
   "outputs": [
    {
     "data": {
      "text/plain": [
       "0"
      ]
     },
     "execution_count": 47,
     "metadata": {},
     "output_type": "execute_result"
    }
   ],
   "source": [
    "##規定計算區間\n",
    "pratice_sentence.count('a',2,10)"
   ]
  },
  {
   "cell_type": "markdown",
   "metadata": {},
   "source": [
    "### startswith() / endswith()"
   ]
  },
  {
   "cell_type": "code",
   "execution_count": 48,
   "metadata": {
    "ExecuteTime": {
     "end_time": "2020-11-18T12:58:20.593149Z",
     "start_time": "2020-11-18T12:58:20.588451Z"
    }
   },
   "outputs": [
    {
     "name": "stdout",
     "output_type": "stream",
     "text": [
      "原始字串:   Now I am getting angry and I want my damn pho.\n"
     ]
    }
   ],
   "source": [
    "pratice_sentence = all_review[5]\n",
    "print('原始字串:   {}'.format(pratice_sentence))"
   ]
  },
  {
   "cell_type": "code",
   "execution_count": 49,
   "metadata": {
    "ExecuteTime": {
     "end_time": "2020-11-18T12:58:22.066879Z",
     "start_time": "2020-11-18T12:58:22.061405Z"
    }
   },
   "outputs": [
    {
     "data": {
      "text/plain": [
       "True"
      ]
     },
     "execution_count": 49,
     "metadata": {},
     "output_type": "execute_result"
    }
   ],
   "source": [
    "##檢查字串開頭是否為Now\n",
    "pratice_sentence.startswith('Now')"
   ]
  },
  {
   "cell_type": "code",
   "execution_count": 50,
   "metadata": {
    "ExecuteTime": {
     "end_time": "2020-11-18T12:58:23.029296Z",
     "start_time": "2020-11-18T12:58:23.023812Z"
    }
   },
   "outputs": [
    {
     "data": {
      "text/plain": [
       "True"
      ]
     },
     "execution_count": 50,
     "metadata": {},
     "output_type": "execute_result"
    }
   ],
   "source": [
    "##檢查字串結尾是否為.\n",
    "pratice_sentence.endswith('.')"
   ]
  },
  {
   "cell_type": "code",
   "execution_count": 51,
   "metadata": {
    "ExecuteTime": {
     "end_time": "2020-11-18T12:58:41.219622Z",
     "start_time": "2020-11-18T12:58:41.214031Z"
    }
   },
   "outputs": [
    {
     "data": {
      "text/plain": [
       "True"
      ]
     },
     "execution_count": 51,
     "metadata": {},
     "output_type": "execute_result"
    }
   ],
   "source": [
    "pratice_sentence.endswith('pho.')"
   ]
  },
  {
   "cell_type": "code",
   "execution_count": 52,
   "metadata": {
    "ExecuteTime": {
     "end_time": "2020-11-18T12:58:43.350717Z",
     "start_time": "2020-11-18T12:58:43.345807Z"
    }
   },
   "outputs": [
    {
     "data": {
      "text/plain": [
       "False"
      ]
     },
     "execution_count": 52,
     "metadata": {},
     "output_type": "execute_result"
    }
   ],
   "source": [
    "pratice_sentence.endswith('I')"
   ]
  },
  {
   "cell_type": "markdown",
   "metadata": {},
   "source": [
    "### capitalize()"
   ]
  },
  {
   "cell_type": "code",
   "execution_count": 53,
   "metadata": {
    "ExecuteTime": {
     "end_time": "2020-11-18T12:58:46.285404Z",
     "start_time": "2020-11-18T12:58:46.279407Z"
    }
   },
   "outputs": [
    {
     "data": {
      "text/plain": [
       "'We love python'"
      ]
     },
     "execution_count": 53,
     "metadata": {},
     "output_type": "execute_result"
    }
   ],
   "source": [
    "##將開頭轉換為大寫\n",
    "'we love python'.capitalize()"
   ]
  },
  {
   "cell_type": "markdown",
   "metadata": {},
   "source": [
    "### find() / index()"
   ]
  },
  {
   "cell_type": "code",
   "execution_count": 54,
   "metadata": {
    "ExecuteTime": {
     "end_time": "2020-11-18T12:58:48.510372Z",
     "start_time": "2020-11-18T12:58:48.506804Z"
    }
   },
   "outputs": [
    {
     "name": "stdout",
     "output_type": "stream",
     "text": [
      "原始字串:   Honeslty it didn't taste THAT fresh.)\n"
     ]
    }
   ],
   "source": [
    "pratice_sentence = all_review[6]\n",
    "print('原始字串:   {}'.format(pratice_sentence))"
   ]
  },
  {
   "cell_type": "code",
   "execution_count": 55,
   "metadata": {
    "ExecuteTime": {
     "end_time": "2020-11-18T12:58:51.294667Z",
     "start_time": "2020-11-18T12:58:51.289416Z"
    }
   },
   "outputs": [
    {
     "data": {
      "text/plain": [
       "9"
      ]
     },
     "execution_count": 55,
     "metadata": {},
     "output_type": "execute_result"
    }
   ],
   "source": [
    "## 尋找字串中 it 在哪\n",
    "pratice_sentence.find('it') ## == pratice_sentence.index('it')"
   ]
  },
  {
   "cell_type": "code",
   "execution_count": 56,
   "metadata": {
    "ExecuteTime": {
     "end_time": "2020-11-18T12:58:54.168696Z",
     "start_time": "2020-11-18T12:58:54.162912Z"
    }
   },
   "outputs": [
    {
     "data": {
      "text/plain": [
       "'it'"
      ]
     },
     "execution_count": 56,
     "metadata": {},
     "output_type": "execute_result"
    }
   ],
   "source": [
    "pratice_sentence[9:9+len('it')]"
   ]
  },
  {
   "cell_type": "code",
   "execution_count": 57,
   "metadata": {
    "ExecuteTime": {
     "end_time": "2020-11-18T12:58:55.878016Z",
     "start_time": "2020-11-18T12:58:55.867936Z"
    }
   },
   "outputs": [
    {
     "ename": "ValueError",
     "evalue": "substring not found",
     "output_type": "error",
     "traceback": [
      "\u001b[0;31m---------------------------------------------------------------------------\u001b[0m",
      "\u001b[0;31mValueError\u001b[0m                                Traceback (most recent call last)",
      "\u001b[0;32m<ipython-input-57-9ef5681f06c7>\u001b[0m in \u001b[0;36m<module>\u001b[0;34m\u001b[0m\n\u001b[1;32m      1\u001b[0m \u001b[0;31m## index與find功能相同，但找不到字元時會報錯，find會回報-1\u001b[0m\u001b[0;34m\u001b[0m\u001b[0;34m\u001b[0m\u001b[0;34m\u001b[0m\u001b[0m\n\u001b[0;32m----> 2\u001b[0;31m \u001b[0mpratice_sentence\u001b[0m\u001b[0;34m.\u001b[0m\u001b[0mindex\u001b[0m\u001b[0;34m(\u001b[0m\u001b[0;34m'where'\u001b[0m\u001b[0;34m)\u001b[0m\u001b[0;34m\u001b[0m\u001b[0;34m\u001b[0m\u001b[0m\n\u001b[0m",
      "\u001b[0;31mValueError\u001b[0m: substring not found"
     ]
    }
   ],
   "source": [
    "## index與find功能相同，但找不到字元時會報錯，find會回報-1\n",
    "pratice_sentence.index('where')"
   ]
  },
  {
   "cell_type": "code",
   "execution_count": 58,
   "metadata": {
    "ExecuteTime": {
     "end_time": "2020-11-18T12:58:57.182707Z",
     "start_time": "2020-11-18T12:58:57.176916Z"
    }
   },
   "outputs": [
    {
     "data": {
      "text/plain": [
       "-1"
      ]
     },
     "execution_count": 58,
     "metadata": {},
     "output_type": "execute_result"
    }
   ],
   "source": [
    "pratice_sentence.find('where')"
   ]
  },
  {
   "cell_type": "markdown",
   "metadata": {},
   "source": [
    "## upper() / lower()"
   ]
  },
  {
   "cell_type": "code",
   "execution_count": 59,
   "metadata": {
    "ExecuteTime": {
     "end_time": "2020-11-18T12:59:00.004768Z",
     "start_time": "2020-11-18T12:58:59.999715Z"
    }
   },
   "outputs": [
    {
     "name": "stdout",
     "output_type": "stream",
     "text": [
      "原始字串:   The potatoes were like rubber and you could tell they had been made up ahead of time being kept under a warmer.\n"
     ]
    }
   ],
   "source": [
    "pratice_sentence = all_review[7]\n",
    "print('原始字串:   {}'.format(pratice_sentence))"
   ]
  },
  {
   "cell_type": "code",
   "execution_count": 60,
   "metadata": {
    "ExecuteTime": {
     "end_time": "2020-11-18T12:59:01.887424Z",
     "start_time": "2020-11-18T12:59:01.881672Z"
    }
   },
   "outputs": [
    {
     "data": {
      "text/plain": [
       "'THE POTATOES WERE LIKE RUBBER AND YOU COULD TELL THEY HAD BEEN MADE UP AHEAD OF TIME BEING KEPT UNDER A WARMER.'"
      ]
     },
     "execution_count": 60,
     "metadata": {},
     "output_type": "execute_result"
    }
   ],
   "source": [
    "##全部轉換為大寫\n",
    "pratice_sentence.upper()"
   ]
  },
  {
   "cell_type": "code",
   "execution_count": 61,
   "metadata": {
    "ExecuteTime": {
     "end_time": "2020-11-18T12:59:02.327426Z",
     "start_time": "2020-11-18T12:59:02.322485Z"
    }
   },
   "outputs": [
    {
     "data": {
      "text/plain": [
       "'the potatoes were like rubber and you could tell they had been made up ahead of time being kept under a warmer.'"
      ]
     },
     "execution_count": 61,
     "metadata": {},
     "output_type": "execute_result"
    }
   ],
   "source": [
    "##全部轉換為小寫\n",
    "pratice_sentence.lower()"
   ]
  },
  {
   "cell_type": "markdown",
   "metadata": {},
   "source": [
    "## Counter()"
   ]
  },
  {
   "cell_type": "code",
   "execution_count": 62,
   "metadata": {
    "ExecuteTime": {
     "end_time": "2020-11-18T12:59:04.218927Z",
     "start_time": "2020-11-18T12:59:04.215162Z"
    }
   },
   "outputs": [],
   "source": [
    "from collections import Counter"
   ]
  },
  {
   "cell_type": "code",
   "execution_count": 63,
   "metadata": {
    "ExecuteTime": {
     "end_time": "2020-11-18T12:59:07.804421Z",
     "start_time": "2020-11-18T12:59:07.799557Z"
    }
   },
   "outputs": [
    {
     "name": "stdout",
     "output_type": "stream",
     "text": [
      "Counter({'e': 5, ' ': 4, 'r': 3, 't': 2, 'o': 2, 'T': 1, 'h': 1, 'f': 1, 'i': 1, 's': 1, 'w': 1, 'g': 1, 'a': 1, '.': 1})\n"
     ]
    }
   ],
   "source": [
    "##快速計算所有字元出現次數\n",
    "count_ = Counter(all_review[8]) # counter counts by the unit of the string. (if the string is stripped, then the unit is a word.)\n",
    "print(count_)"
   ]
  },
  {
   "cell_type": "code",
   "execution_count": 64,
   "metadata": {
    "ExecuteTime": {
     "end_time": "2020-11-18T12:59:57.506779Z",
     "start_time": "2020-11-18T12:59:57.501160Z"
    }
   },
   "outputs": [
    {
     "data": {
      "text/plain": [
       "[('e', 5), (' ', 4), ('r', 3), ('t', 2), ('o', 2)]"
      ]
     },
     "execution_count": 64,
     "metadata": {},
     "output_type": "execute_result"
    }
   ],
   "source": [
    "##出現最多的字元(前五名)\n",
    "count_.most_common(5)"
   ]
  },
  {
   "cell_type": "code",
   "execution_count": 65,
   "metadata": {
    "ExecuteTime": {
     "end_time": "2020-11-18T12:59:58.340966Z",
     "start_time": "2020-11-18T12:59:58.335658Z"
    }
   },
   "outputs": [
    {
     "data": {
      "text/plain": [
       "1"
      ]
     },
     "execution_count": 65,
     "metadata": {},
     "output_type": "execute_result"
    }
   ],
   "source": [
    "## l 字元出現過幾次\n",
    "count_.get('h')"
   ]
  },
  {
   "cell_type": "code",
   "execution_count": null,
   "metadata": {},
   "outputs": [],
   "source": []
  }
 ],
 "metadata": {
  "kernelspec": {
   "display_name": "Python 3",
   "language": "python",
   "name": "python3"
  },
  "language_info": {
   "codemirror_mode": {
    "name": "ipython",
    "version": 3
   },
   "file_extension": ".py",
   "mimetype": "text/x-python",
   "name": "python",
   "nbconvert_exporter": "python",
   "pygments_lexer": "ipython3",
   "version": "3.8.3"
  },
  "toc": {
   "base_numbering": 1,
   "nav_menu": {},
   "number_sections": true,
   "sideBar": true,
   "skip_h1_title": false,
   "title_cell": "Table of Contents",
   "title_sidebar": "Contents",
   "toc_cell": false,
   "toc_position": {},
   "toc_section_display": true,
   "toc_window_display": false
  }
 },
 "nbformat": 4,
 "nbformat_minor": 2
}
