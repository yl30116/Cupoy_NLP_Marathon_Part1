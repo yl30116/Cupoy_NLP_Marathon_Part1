{
 "cells": [
  {
   "cell_type": "markdown",
   "metadata": {},
   "source": [
    "## 作業目標: 了解斷詞演算法的背後計算"
   ]
  },
  {
   "cell_type": "markdown",
   "metadata": {},
   "source": [
    "### 根據課程講述的內容, 請計算出下列剩餘所有情況的\n",
    "若有一個人連續觀察到三天水草都是乾燥的(Dry), 則這三天的天氣機率為何？(可參考講義第13頁)\n",
    "(Hint: 共有8種可能機率)\n",
    "\n",
    "```python\n",
    "states = ('sunny', 'rainy')\n",
    "observations = ('dry', 'damp', 'soggy')\n",
    "start_probability = {'sunny': 0.4, 'rainy': 0.6}\n",
    "transition_probability = {'sunny':{'sunny':0.6, 'rainy':0.4},\n",
    "                          'rainy': {'sunny':0.3, 'rainy':0.7}}\n",
    "emission_probatility = {'sunny': {'dry':0.6, 'damp':0.3, 'soggy':0.1},\n",
    "                        'rainy': {'dry':0.1, 'damp':0.4, 'soggy':0.5}}\n",
    "```"
   ]
  },
  {
   "cell_type": "markdown",
   "metadata": {},
   "source": [
    "```\n",
    "觀察狀態 = 'dry', 'dry', 'dry'\n",
    "Sunny, Sunny, Sunny: 0.4*(0.6)*0.6*(0.6)*0.6*(0.6) = 0.031104\n",
    "Rainy, Sunny, Sunny: 0.6*(0.1)*0.3*(0.6)*0.6*(0.6) = 0.003888\n",
    "\n",
    "Sunny, Rainy, Sunny: 0.4*(0.6)*0.4*(0.1)*0.3*(0.6) = 0.001728\n",
    "Rainy, Rainy, Sunny: 0.6*(0.1)*0.7*(0.1)*0.3*(0.6) = 0.000756\n",
    "\n",
    "Sunny, Sunny, Rainy: 0.4*(0.6)*0.6*(0.6)*0.4*(0.1) = 0.003456\n",
    "Rainy, Sunny, Rainy: 0.6*(0.1)*0.3*(0.6)*0.4*(0.1) = 0.000432\n",
    "\n",
    "Sunny, Rainy, Rainy: 0.4*(0.6)*0.4*(0.1)*0.7*(0.1) = 0.000672\n",
    "Rainy, Rainy, Rainy: 0.6*(0.1)*0.7*(0.1)*0.7*(0.1) = 0.000294\n",
    "\n",
    "最大機率為: Sunny, Sunny, Sunny\n",
    "```"
   ]
  },
  {
   "cell_type": "markdown",
   "metadata": {},
   "source": [
    "### 根據上述條件, 寫出Viterbi應用程式"
   ]
  },
  {
   "cell_type": "code",
   "execution_count": 1,
   "metadata": {
    "ExecuteTime": {
     "end_time": "2021-01-13T15:27:51.838318Z",
     "start_time": "2021-01-13T15:27:51.834649Z"
    }
   },
   "outputs": [],
   "source": [
    "observations = ('dry', 'dry', 'dry') #實際上觀察到的狀態為dry, dry, dry\n",
    "states = ('sunny', 'rainy')\n",
    "start_probability = {'sunny': 0.4, 'rainy': 0.6}\n",
    "transition_probability = {'sunny':{'sunny':0.6, 'rainy':0.4},\n",
    "                          'rainy': {'sunny':0.3, 'rainy':0.7}}\n",
    "emission_probatility = {'sunny': {'dry':0.6, 'damp':0.3, 'soggy':0.1},\n",
    "                        'rainy': {'dry':0.1, 'damp':0.4, 'soggy':0.5}}"
   ]
  },
  {
   "cell_type": "code",
   "execution_count": 2,
   "metadata": {
    "ExecuteTime": {
     "end_time": "2021-01-13T15:27:51.848347Z",
     "start_time": "2021-01-13T15:27:51.840700Z"
    }
   },
   "outputs": [],
   "source": [
    "def viterbi(obs, states, start_p, trans_p, emit_p):\n",
    "    V = [{}]\n",
    "    path = {}\n",
    "\n",
    "    # Initialize base cases (t == 0)\n",
    "    for y in states:\n",
    "        path[y] = start_p[y] * emit_p[y][obs[0]]\n",
    "\n",
    "    # reversely sort path based on the probability of predicted states\n",
    "    path = dict(sorted(path.items(), key=lambda item: item[1], reverse = True))\n",
    "\n",
    "    proj_state = list(path.keys())[0] # projected state\n",
    "    proj_prob = list(path.values())[0] # projected probability of proj_state\n",
    "\n",
    "    # return the projected state with the largest possibility, eg. V = [{'sunny': 0.24}]\n",
    "    V[0][proj_state] = proj_prob\n",
    "    # update the path containing only the projected daily state, eg. path = {'sunny': ['sunny']}\n",
    "    path = {proj_state: [proj_state]}\n",
    "\n",
    "    \n",
    "    # Run Viterbi for t > 0\n",
    "    for t in range(1,len(obs)):\n",
    "    \n",
    "        # get the exact transition prob based on the previous projected state\n",
    "        nextday_trans = trans_p[proj_state]\n",
    "\n",
    "        newpath = {} # initialise a new path\n",
    "        for y in states:\n",
    "            newpath[y] = nextday_trans[y]*emit_p[y][obs[t]] # (transition prob) * (emission prob)\n",
    "\n",
    "        # if the calculation hasn't reached the end of the obs, calculate the probability of the path and choose the best path\n",
    "        # else, leave the decision, i.e. which path to choose, to the end of code\n",
    "        if t < (len(obs) - 1):\n",
    "\n",
    "            # reversely sort path based on the probability of predicted states\n",
    "            newpath = dict(sorted(newpath.items(), key=lambda item: item[1], reverse = True))\n",
    "\n",
    "            new_proj_state = list(newpath.keys())[0] # projected state\n",
    "            new_proj_prob = proj_prob * list(newpath.values())[0] # projected probability of proj_state\n",
    "\n",
    "            # return the projected state with the largest possibility, eg. V = [{'sunny': 0.24}]\n",
    "            V.append({new_proj_state: new_proj_prob})\n",
    "            # update the path containing only the projected daily state, eg. path = {'sunny': ['sunny']}\n",
    "            newpath = {new_proj_state: list(path.values())[0]}\n",
    "            newpath[new_proj_state].append(new_proj_state)\n",
    "\n",
    "            # update the results\n",
    "            path = newpath\n",
    "            proj_state = new_proj_state\n",
    "            proj_prob = new_proj_prob\n",
    "\n",
    "        else:\n",
    "            V.append(newpath)\n",
    "            previously_predicted_path = list(path.values())[0]\n",
    "            for y in states:\n",
    "                V[len(obs) - 1][y] *= proj_prob\n",
    "                path[y] = previously_predicted_path + [y]\n",
    "    \n",
    "    (prob, state) = max([(V[len(obs) - 1][final_state], final_state) for final_state in states])\n",
    "    return (prob, path[state])"
   ]
  },
  {
   "cell_type": "code",
   "execution_count": 3,
   "metadata": {
    "ExecuteTime": {
     "end_time": "2021-01-13T15:27:51.852533Z",
     "start_time": "2021-01-13T15:27:51.850269Z"
    }
   },
   "outputs": [],
   "source": [
    "result = viterbi(observations,\n",
    "                 states,\n",
    "                 start_probability,\n",
    "                 transition_probability,\n",
    "                 emission_probatility)"
   ]
  },
  {
   "cell_type": "code",
   "execution_count": 4,
   "metadata": {
    "ExecuteTime": {
     "end_time": "2021-01-13T15:27:51.862577Z",
     "start_time": "2021-01-13T15:27:51.854400Z"
    }
   },
   "outputs": [
    {
     "data": {
      "text/plain": [
       "(0.031103999999999996, ['sunny', 'sunny', 'sunny'])"
      ]
     },
     "execution_count": 4,
     "metadata": {},
     "output_type": "execute_result"
    }
   ],
   "source": [
    "result"
   ]
  },
  {
   "cell_type": "code",
   "execution_count": 5,
   "metadata": {
    "ExecuteTime": {
     "end_time": "2021-01-13T15:27:51.866158Z",
     "start_time": "2021-01-13T15:27:51.864234Z"
    }
   },
   "outputs": [],
   "source": [
    "# sample answer\n",
    "# result"
   ]
  }
 ],
 "metadata": {
  "kernelspec": {
   "display_name": "Python 3",
   "language": "python",
   "name": "python3"
  },
  "language_info": {
   "codemirror_mode": {
    "name": "ipython",
    "version": 3
   },
   "file_extension": ".py",
   "mimetype": "text/x-python",
   "name": "python",
   "nbconvert_exporter": "python",
   "pygments_lexer": "ipython3",
   "version": "3.8.5"
  },
  "toc": {
   "base_numbering": 1,
   "nav_menu": {},
   "number_sections": true,
   "sideBar": true,
   "skip_h1_title": false,
   "title_cell": "Table of Contents",
   "title_sidebar": "Contents",
   "toc_cell": false,
   "toc_position": {},
   "toc_section_display": true,
   "toc_window_display": false
  }
 },
 "nbformat": 4,
 "nbformat_minor": 2
}
