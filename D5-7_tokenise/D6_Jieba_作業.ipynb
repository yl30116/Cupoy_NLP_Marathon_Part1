{
 "cells": [
  {
   "cell_type": "markdown",
   "metadata": {},
   "source": [
    "## 作業目標: 使用Jieba進行各項的斷詞操作\n",
    "\n",
    "這份作業我們會使用中文飯店評論資料集來作為斷詞練習。 [資料集:ChnSentiCorp_htl_all](https://github.com/SophonPlus/ChineseNlpCorpus)"
   ]
  },
  {
   "cell_type": "markdown",
   "metadata": {},
   "source": [
    "### 讀入文本資料"
   ]
  },
  {
   "cell_type": "code",
   "execution_count": 1,
   "metadata": {
    "ExecuteTime": {
     "end_time": "2021-01-31T06:28:57.333399Z",
     "start_time": "2021-01-31T06:28:56.958155Z"
    }
   },
   "outputs": [
    {
     "data": {
      "text/html": [
       "<div>\n",
       "<style scoped>\n",
       "    .dataframe tbody tr th:only-of-type {\n",
       "        vertical-align: middle;\n",
       "    }\n",
       "\n",
       "    .dataframe tbody tr th {\n",
       "        vertical-align: top;\n",
       "    }\n",
       "\n",
       "    .dataframe thead th {\n",
       "        text-align: right;\n",
       "    }\n",
       "</style>\n",
       "<table border=\"1\" class=\"dataframe\">\n",
       "  <thead>\n",
       "    <tr style=\"text-align: right;\">\n",
       "      <th></th>\n",
       "      <th>label</th>\n",
       "      <th>review</th>\n",
       "    </tr>\n",
       "  </thead>\n",
       "  <tbody>\n",
       "    <tr>\n",
       "      <th>0</th>\n",
       "      <td>1</td>\n",
       "      <td>距离川沙公路较近,但是公交指示不对,如果是\"蔡陆线\"的话,会非常麻烦.建议用别的路线.房间较...</td>\n",
       "    </tr>\n",
       "    <tr>\n",
       "      <th>1</th>\n",
       "      <td>1</td>\n",
       "      <td>商务大床房，房间很大，床有2M宽，整体感觉经济实惠不错!</td>\n",
       "    </tr>\n",
       "    <tr>\n",
       "      <th>2</th>\n",
       "      <td>1</td>\n",
       "      <td>早餐太差，无论去多少人，那边也不加食品的。酒店应该重视一下这个问题了。房间本身很好。</td>\n",
       "    </tr>\n",
       "    <tr>\n",
       "      <th>3</th>\n",
       "      <td>1</td>\n",
       "      <td>宾馆在小街道上，不大好找，但还好北京热心同胞很多~宾馆设施跟介绍的差不多，房间很小，确实挺小...</td>\n",
       "    </tr>\n",
       "    <tr>\n",
       "      <th>4</th>\n",
       "      <td>1</td>\n",
       "      <td>CBD中心,周围没什么店铺,说5星有点勉强.不知道为什么卫生间没有电吹风</td>\n",
       "    </tr>\n",
       "  </tbody>\n",
       "</table>\n",
       "</div>"
      ],
      "text/plain": [
       "   label                                             review\n",
       "0      1  距离川沙公路较近,但是公交指示不对,如果是\"蔡陆线\"的话,会非常麻烦.建议用别的路线.房间较...\n",
       "1      1                       商务大床房，房间很大，床有2M宽，整体感觉经济实惠不错!\n",
       "2      1         早餐太差，无论去多少人，那边也不加食品的。酒店应该重视一下这个问题了。房间本身很好。\n",
       "3      1  宾馆在小街道上，不大好找，但还好北京热心同胞很多~宾馆设施跟介绍的差不多，房间很小，确实挺小...\n",
       "4      1               CBD中心,周围没什么店铺,说5星有点勉强.不知道为什么卫生间没有电吹风"
      ]
     },
     "execution_count": 1,
     "metadata": {},
     "output_type": "execute_result"
    }
   ],
   "source": [
    "import pandas as pd\n",
    "\n",
    "# hint: 可利用pandas讀取CSV\n",
    "pd_corpus = pd.read_csv('ChnSentiCorp_htl_all.csv')\n",
    "\n",
    "pd_corpus.head(5)"
   ]
  },
  {
   "cell_type": "code",
   "execution_count": 2,
   "metadata": {
    "ExecuteTime": {
     "end_time": "2021-01-31T06:28:57.347549Z",
     "start_time": "2021-01-31T06:28:57.336302Z"
    }
   },
   "outputs": [
    {
     "name": "stdout",
     "output_type": "stream",
     "text": [
      "Total: 7766, Positive: 5322, Negative: 2444\n"
     ]
    }
   ],
   "source": [
    "#確認所有留言,正評價(label=1)與負評價數量(label=0)\n",
    "pd_positive = pd_corpus[pd_corpus.label == 1]\n",
    "pd_negative = pd_corpus[pd_corpus.label == 0]\n",
    "\n",
    "print(f'Total: {len(pd_corpus)}, Positive: {len(pd_positive)}, Negative: {len(pd_negative)}')"
   ]
  },
  {
   "cell_type": "code",
   "execution_count": 3,
   "metadata": {
    "ExecuteTime": {
     "end_time": "2021-01-31T06:28:57.354499Z",
     "start_time": "2021-01-31T06:28:57.348950Z"
    }
   },
   "outputs": [],
   "source": [
    "#移除缺失值\n",
    "pd_corpus.dropna(inplace=True)"
   ]
  },
  {
   "cell_type": "markdown",
   "metadata": {},
   "source": [
    "### 建構結巴斷詞Function\n",
    "\n",
    "建構可將讀入的Pandas DataFrame的文本資料，外加一欄名為`cut`的review欄位斷詞結果"
   ]
  },
  {
   "cell_type": "code",
   "execution_count": 4,
   "metadata": {
    "ExecuteTime": {
     "end_time": "2021-01-31T06:28:57.575845Z",
     "start_time": "2021-01-31T06:28:57.355970Z"
    }
   },
   "outputs": [],
   "source": [
    "import jieba"
   ]
  },
  {
   "cell_type": "code",
   "execution_count": 5,
   "metadata": {
    "ExecuteTime": {
     "end_time": "2021-01-31T06:28:57.588903Z",
     "start_time": "2021-01-31T06:28:57.577957Z"
    }
   },
   "outputs": [],
   "source": [
    "class JiebaCutingClass(object):\n",
    "    '''Class to use jeiba to parse corpus from dataframe and cut the corpus\n",
    "    \n",
    "    Parameters\n",
    "    -----------\n",
    "    key_to_cut: str\n",
    "        the dataframe key to parse the sentence for jieba cutting\n",
    "    dic: str\n",
    "        the dictionary to use for jieba, default is None (use default dictionary)\n",
    "    userdict: str\n",
    "        the user defined dictionary to use for jieba, default is None\n",
    "    '''\n",
    "    \n",
    "    def __init__(self, key_to_cut:str, dic:str=None, userdict:str=None):\n",
    "        \n",
    "        if dic is not None:\n",
    "            jieba.set_dictionary(dic)\n",
    "        \n",
    "        if userdict is not None:\n",
    "            jieba.load_userdict(userdict)\n",
    "        \n",
    "        self.key_to_cut = key_to_cut\n",
    "        \n",
    "        #將paddle 功能開啟\n",
    "        jieba.enable_paddle()\n",
    "        \n",
    "    @staticmethod\n",
    "    def cut_single_sentence(sentence, use_paddle=False, use_full=False, use_search=False):\n",
    "        \n",
    "        if use_search:\n",
    "            # hint:使用收尋引擎模式進行斷詞\n",
    "            out = jieba.lcut_for_search(sentence)\n",
    "        else:\n",
    "            # hint:非收尋引擎模式斷詞，請注意有精確模式、全模式與paddle模式\n",
    "            out = jieba.lcut(sentence, use_paddle = use_paddle, cut_all = use_full)\n",
    "        \n",
    "        return out\n",
    "            \n",
    "    \n",
    "    def cut_corpus(self, corpus: pd.DataFrame, mode: str) -> pd.DataFrame:\n",
    "        '''Method to read and cut sentence from dataframe and append another column named cut\n",
    "        \n",
    "        Paremeters\n",
    "        --------------\n",
    "        corpus: pd.DataFrame\n",
    "            Input corpus in dataframe\n",
    "        mode: str\n",
    "            Jieba mode to be used\n",
    "        \n",
    "        Return\n",
    "        ----------------\n",
    "        out: pd.Dataframe\n",
    "            Output corpus in dataframe\n",
    "        '''\n",
    "        \n",
    "        # checking valid mode\n",
    "        if mode not in ['paddle', 'full', 'precise', 'search']:\n",
    "            raise TypeError(f'only support `paddle`, `full`, `precise`, and `search` mode, but get {mode}')\n",
    "            \n",
    "        # cut the corpus based on mode\n",
    "        # hint: 根據mode來呼叫相對應的斷詞method\n",
    "        if mode == 'paddle':\n",
    "            out = self._paddle_cut(corpus)\n",
    "        elif mode == 'full':\n",
    "            out = self._full_cut(corpus)\n",
    "        elif mode == 'precise':\n",
    "            out = self._precise_cut(corpus)\n",
    "        elif mode == 'search':\n",
    "            out = self._search_cut(corpus)\n",
    "\n",
    "        return out\n",
    "    \n",
    "    def _paddle_cut(self, corpus):\n",
    "        '''paddle mode\n",
    "        '''\n",
    "        #enable paddle\n",
    "        #hint:先啟用paddle mode\n",
    "        jieba.enable_paddle()\n",
    "        \n",
    "        out = []\n",
    "        # hint:將讀進的文本進行斷詞，並將結果append回out的陣列中\n",
    "        for single_review in corpus[self.key_to_cut]:\n",
    "            cut_result = jieba.lcut(single_review, use_paddle = True)\n",
    "            out.append(cut_result)\n",
    "        \n",
    "        corpus['cut'] = out\n",
    "        \n",
    "        return corpus\n",
    "    \n",
    "    def _full_cut(self, corpus):\n",
    "        '''full mode\n",
    "        '''\n",
    "        \n",
    "        out = []\n",
    "        # hint:將讀進的文本進行斷詞，並將結果append回out的陣列中\n",
    "        for single_review in corpus[self.key_to_cut]:\n",
    "            cut_result = jieba.lcut(single_review, cut_all = True)\n",
    "            out.append(cut_result)\n",
    "        \n",
    "        corpus['cut'] = out\n",
    "        \n",
    "        return corpus\n",
    "    \n",
    "    def _precise_cut(self, corpus):\n",
    "        '''precise mode\n",
    "        '''\n",
    "        \n",
    "        out = []\n",
    "        # hint:將讀進的文本進行斷詞，並將結果append回out的陣列中\n",
    "        for single_review in corpus[self.key_to_cut]:\n",
    "            cut_result = jieba.lcut(single_review)\n",
    "            out.append(cut_result)\n",
    "        \n",
    "        corpus['cut'] = out\n",
    "        \n",
    "        return corpus\n",
    "    \n",
    "    def _search_cut(self, corpus):\n",
    "        '''search mode\n",
    "        '''\n",
    "        \n",
    "        out = []\n",
    "        # hint:將讀進的文本進行斷詞，並將結果append回out的陣列中\n",
    "        for single_review in corpus[self.key_to_cut]:\n",
    "            cut_result = jieba.lcut_for_search(single_review)\n",
    "            out.append(cut_result)\n",
    "        \n",
    "        corpus['cut'] = out\n",
    "        \n",
    "        return corpus"
   ]
  },
  {
   "cell_type": "markdown",
   "metadata": {},
   "source": [
    "### 使用建構好的斷詞物件對文本進行斷詞"
   ]
  },
  {
   "cell_type": "code",
   "execution_count": 6,
   "metadata": {
    "ExecuteTime": {
     "end_time": "2021-01-31T06:29:00.140286Z",
     "start_time": "2021-01-31T06:28:57.591146Z"
    }
   },
   "outputs": [
    {
     "name": "stderr",
     "output_type": "stream",
     "text": [
      "Paddle enabled successfully......\n",
      "Building prefix dict from the default dictionary ...\n",
      "Loading model from cache /var/folders/75/9txq524x7gsfdqxn72glhjxc0000gn/T/jieba.cache\n",
      "Loading model cost 0.642 seconds.\n",
      "Prefix dict has been built successfully.\n",
      "<ipython-input-5-aeab09e9bf8c>:114: SettingWithCopyWarning: \n",
      "A value is trying to be set on a copy of a slice from a DataFrame.\n",
      "Try using .loc[row_indexer,col_indexer] = value instead\n",
      "\n",
      "See the caveats in the documentation: https://pandas.pydata.org/pandas-docs/stable/user_guide/indexing.html#returning-a-view-versus-a-copy\n",
      "  corpus['cut'] = out\n"
     ]
    },
    {
     "data": {
      "text/html": [
       "<div>\n",
       "<style scoped>\n",
       "    .dataframe tbody tr th:only-of-type {\n",
       "        vertical-align: middle;\n",
       "    }\n",
       "\n",
       "    .dataframe tbody tr th {\n",
       "        vertical-align: top;\n",
       "    }\n",
       "\n",
       "    .dataframe thead th {\n",
       "        text-align: right;\n",
       "    }\n",
       "</style>\n",
       "<table border=\"1\" class=\"dataframe\">\n",
       "  <thead>\n",
       "    <tr style=\"text-align: right;\">\n",
       "      <th></th>\n",
       "      <th>label</th>\n",
       "      <th>review</th>\n",
       "      <th>cut</th>\n",
       "    </tr>\n",
       "  </thead>\n",
       "  <tbody>\n",
       "    <tr>\n",
       "      <th>0</th>\n",
       "      <td>1</td>\n",
       "      <td>距离川沙公路较近,但是公交指示不对,如果是\"蔡陆线\"的话,会非常麻烦.建议用别的路线.房间较...</td>\n",
       "      <td>[距离, 川沙, 公路, 较近, ,, 但是, 公交, 指示, 不, 对, ,, 如果, 是...</td>\n",
       "    </tr>\n",
       "    <tr>\n",
       "      <th>1</th>\n",
       "      <td>1</td>\n",
       "      <td>商务大床房，房间很大，床有2M宽，整体感觉经济实惠不错!</td>\n",
       "      <td>[商务, 大床, 房, ，, 房间, 很大, ，, 床有, 2M, 宽, ，, 整体, 感觉...</td>\n",
       "    </tr>\n",
       "    <tr>\n",
       "      <th>2</th>\n",
       "      <td>1</td>\n",
       "      <td>早餐太差，无论去多少人，那边也不加食品的。酒店应该重视一下这个问题了。房间本身很好。</td>\n",
       "      <td>[早餐, 太, 差, ，, 无论, 去, 多少, 人, ，, 那边, 也, 不加, 食品, ...</td>\n",
       "    </tr>\n",
       "    <tr>\n",
       "      <th>3</th>\n",
       "      <td>1</td>\n",
       "      <td>宾馆在小街道上，不大好找，但还好北京热心同胞很多~宾馆设施跟介绍的差不多，房间很小，确实挺小...</td>\n",
       "      <td>[宾馆, 在, 小, 街道, 上, ，, 不大好, 找, ，, 但, 还好, 北京, 热心,...</td>\n",
       "    </tr>\n",
       "    <tr>\n",
       "      <th>4</th>\n",
       "      <td>1</td>\n",
       "      <td>CBD中心,周围没什么店铺,说5星有点勉强.不知道为什么卫生间没有电吹风</td>\n",
       "      <td>[CBD, 中心, ,, 周围, 没什么, 店铺, ,, 说, 5, 星, 有点, 勉强, ...</td>\n",
       "    </tr>\n",
       "  </tbody>\n",
       "</table>\n",
       "</div>"
      ],
      "text/plain": [
       "   label                                             review  \\\n",
       "0      1  距离川沙公路较近,但是公交指示不对,如果是\"蔡陆线\"的话,会非常麻烦.建议用别的路线.房间较...   \n",
       "1      1                       商务大床房，房间很大，床有2M宽，整体感觉经济实惠不错!   \n",
       "2      1         早餐太差，无论去多少人，那边也不加食品的。酒店应该重视一下这个问题了。房间本身很好。   \n",
       "3      1  宾馆在小街道上，不大好找，但还好北京热心同胞很多~宾馆设施跟介绍的差不多，房间很小，确实挺小...   \n",
       "4      1               CBD中心,周围没什么店铺,说5星有点勉强.不知道为什么卫生间没有电吹风   \n",
       "\n",
       "                                                 cut  \n",
       "0  [距离, 川沙, 公路, 较近, ,, 但是, 公交, 指示, 不, 对, ,, 如果, 是...  \n",
       "1  [商务, 大床, 房, ，, 房间, 很大, ，, 床有, 2M, 宽, ，, 整体, 感觉...  \n",
       "2  [早餐, 太, 差, ，, 无论, 去, 多少, 人, ，, 那边, 也, 不加, 食品, ...  \n",
       "3  [宾馆, 在, 小, 街道, 上, ，, 不大好, 找, ，, 但, 还好, 北京, 热心,...  \n",
       "4  [CBD, 中心, ,, 周围, 没什么, 店铺, ,, 说, 5, 星, 有点, 勉强, ...  "
      ]
     },
     "execution_count": 6,
     "metadata": {},
     "output_type": "execute_result"
    }
   ],
   "source": [
    "### 請使用精確模式與預設字典對文本進行斷詞\n",
    "\n",
    "# hint:請先實例化JiebaCutingClass，再進行斷詞\n",
    "doc = JiebaCutingClass('review')\n",
    "pd_cut = doc.cut_corpus(pd_corpus[:50], mode = 'precise') #為了避免處理時間過久, 這裡我們只使用前50個進行斷詞\n",
    "\n",
    "pd_cut.head()"
   ]
  },
  {
   "cell_type": "markdown",
   "metadata": {},
   "source": [
    "### 載入繁中字典為指定的字詞進行斷詞"
   ]
  },
  {
   "cell_type": "code",
   "execution_count": 7,
   "metadata": {
    "ExecuteTime": {
     "end_time": "2021-01-31T06:29:01.307018Z",
     "start_time": "2021-01-31T06:29:00.145315Z"
    }
   },
   "outputs": [
    {
     "name": "stderr",
     "output_type": "stream",
     "text": [
      "Paddle enabled successfully......\n",
      "Building prefix dict from /Users/jasminehsia/Documents/Github/Cupoy_NLP_Marathon_Part1/D5-7_tokenise/dict.txt.big ...\n",
      "Loading model from cache /var/folders/75/9txq524x7gsfdqxn72glhjxc0000gn/T/jieba.uedd4936804c092eaf8919589a6ddda2e.cache\n"
     ]
    },
    {
     "name": "stdout",
     "output_type": "stream",
     "text": [
      "Paddle模式: ['我', '愛', 'cupoy', '自然', '語言', '處理', '馬拉松', '課程']\n"
     ]
    },
    {
     "name": "stderr",
     "output_type": "stream",
     "text": [
      "Loading model cost 1.145 seconds.\n",
      "Prefix dict has been built successfully.\n"
     ]
    },
    {
     "name": "stdout",
     "output_type": "stream",
     "text": [
      "全模式: ['我', '愛', 'cupoy', '自然', '自然語言', '語言', '處理', '馬拉', '馬拉松', '課程']\n",
      "搜尋模式: ['我', '愛', 'cupoy', '自然', '語言', '自然語言', '處理', '馬拉', '馬拉松', '課程']\n",
      "精確模式: ['我', '愛', 'cupoy', '自然語言', '處理', '馬拉松', '課程']\n"
     ]
    }
   ],
   "source": [
    "test_string = '我愛cupoy自然語言處理馬拉松課程'\n",
    "jieba_cut = JiebaCutingClass(key_to_cut='', dic='./dict.txt.big')\n",
    "\n",
    "\n",
    "out_string = jieba_cut.cut_single_sentence(test_string, use_paddle = True) #paddle 模式\n",
    "print(f'Paddle模式: {[string for string in out_string]}')\n",
    "\n",
    "out_string = jieba_cut.cut_single_sentence(test_string, use_full = True) #全模式\n",
    "print(f'全模式: {[string for string in out_string]}')\n",
    "\n",
    "out_string = jieba_cut.cut_single_sentence(test_string, use_search = True) #搜尋模式\n",
    "print(f'搜尋模式: {[string for string in out_string]}')\n",
    "\n",
    "out_string = jieba_cut.cut_single_sentence(test_string) #精確模式\n",
    "print(f'精確模式: {[string for string in out_string]}')"
   ]
  },
  {
   "cell_type": "code",
   "execution_count": null,
   "metadata": {},
   "outputs": [],
   "source": []
  }
 ],
 "metadata": {
  "kernelspec": {
   "display_name": "Python 3",
   "language": "python",
   "name": "python3"
  },
  "language_info": {
   "codemirror_mode": {
    "name": "ipython",
    "version": 3
   },
   "file_extension": ".py",
   "mimetype": "text/x-python",
   "name": "python",
   "nbconvert_exporter": "python",
   "pygments_lexer": "ipython3",
   "version": "3.8.5"
  },
  "toc": {
   "base_numbering": 1,
   "nav_menu": {},
   "number_sections": true,
   "sideBar": true,
   "skip_h1_title": false,
   "title_cell": "Table of Contents",
   "title_sidebar": "Contents",
   "toc_cell": false,
   "toc_position": {},
   "toc_section_display": true,
   "toc_window_display": false
  }
 },
 "nbformat": 4,
 "nbformat_minor": 2
}
